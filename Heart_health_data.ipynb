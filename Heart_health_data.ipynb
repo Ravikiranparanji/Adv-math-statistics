{
  "nbformat": 4,
  "nbformat_minor": 0,
  "metadata": {
    "colab": {
      "provenance": [],
      "authorship_tag": "ABX9TyNyXMD9DnUIy6pdjB8WNuxj",
      "include_colab_link": true
    },
    "kernelspec": {
      "name": "python3",
      "display_name": "Python 3"
    },
    "language_info": {
      "name": "python"
    }
  },
  "cells": [
    {
      "cell_type": "markdown",
      "metadata": {
        "id": "view-in-github",
        "colab_type": "text"
      },
      "source": [
        "<a href=\"https://colab.research.google.com/github/Ravikiranparanji/Adv-math-statistics/blob/main/Heart_health_data.ipynb\" target=\"_parent\"><img src=\"https://colab.research.google.com/assets/colab-badge.svg\" alt=\"Open In Colab\"/></a>"
      ]
    },
    {
      "cell_type": "markdown",
      "source": [
        "To Build a logistic model to predict whether a person seeks medical treatment in 2 days or less (“1”) or takes longer than 2 days to seek medical treatment (“0”),\n"
      ],
      "metadata": {
        "id": "po94BdQU93ZM"
      }
    },
    {
      "cell_type": "code",
      "execution_count": 34,
      "metadata": {
        "id": "NKITVX0j9wOA"
      },
      "outputs": [],
      "source": [
        "import pandas as pd\n",
        "import numpy as np\n",
        "import statsmodels.api as sm\n",
        "import statsmodels.api as sm\n",
        "from sklearn.linear_model import LogisticRegression\n",
        "from sklearn.model_selection import train_test_split\n",
        "from sklearn.metrics import accuracy_score\n"
      ]
    },
    {
      "cell_type": "markdown",
      "source": [
        "importing the data"
      ],
      "metadata": {
        "id": "ujP3L7cc-H7S"
      }
    },
    {
      "cell_type": "code",
      "source": [
        "data = pd.read_excel(\"heart-health-data.xls\")\n",
        "data"
      ],
      "metadata": {
        "colab": {
          "base_uri": "https://localhost:8080/",
          "height": 487
        },
        "id": "Lz6KN7B796sc",
        "outputId": "1c87b245-dca4-4f7d-8da4-6dc96afc0152"
      },
      "execution_count": 35,
      "outputs": [
        {
          "output_type": "execute_result",
          "data": {
            "text/plain": [
              "      ID  Age  Gender  Ethnicity  Marital  Livewith  Education  palpitations  \\\n",
              "0      1   77       2          1        3       1.0          2             2   \n",
              "1      1   77       2          1        3       1.0          2             2   \n",
              "2      2   61       2          1        1       2.0          2             0   \n",
              "3      2   61       1          1        1       2.0          2             0   \n",
              "4      3   50       1          3        1       2.0          3             0   \n",
              "..   ...  ...     ...        ...      ...       ...        ...           ...   \n",
              "401  508   78       2          1        2       1.0          5             0   \n",
              "402  509   88       2          1        2       1.0          2             0   \n",
              "403  510   86       2          1        2       1.0          2             2   \n",
              "404  511   67       1          1        1       2.0          1             0   \n",
              "405  512   57       2          1        2       2.0          5             0   \n",
              "\n",
              "     orthopnea  chestpain  nausea  cough  fatigue  dyspnea  edema  PND  \\\n",
              "0            2          3       2      1        3        3      1    0   \n",
              "1            2          3       0      1        3        3      1    0   \n",
              "2            3          0       3      0        0        3      3    0   \n",
              "3            3          0       3      0        1        3      3    0   \n",
              "4            2          0       0      0        3        2      1    2   \n",
              "..         ...        ...     ...    ...      ...      ...    ...  ...   \n",
              "401          3          0       1      2        3        3      2    1   \n",
              "402          0          0       2      1        2        0      3    0   \n",
              "403          3          0       0      0        2        2      1    3   \n",
              "404          3          0       0      2        2        3      0    3   \n",
              "405          2          0       0      2        1        2      0    2   \n",
              "\n",
              "     tightshoes  weightgain  DOE  delaydays  \n",
              "0             0           0    0   0.041667  \n",
              "1             0           0    0   0.041667  \n",
              "2             0           3    0   0.165278  \n",
              "3             0           3    0   0.165278  \n",
              "4             3           3    3   0.494444  \n",
              "..          ...         ...  ...        ...  \n",
              "401           2           0    1   0.250000  \n",
              "402           3           0    0  14.000000  \n",
              "403           1           0    1   0.312500  \n",
              "404           0           3    2   0.500000  \n",
              "405           0           1    2  10.000000  \n",
              "\n",
              "[406 rows x 20 columns]"
            ],
            "text/html": [
              "\n",
              "  <div id=\"df-9b218cb9-74b2-4763-8c28-d771601d2b14\">\n",
              "    <div class=\"colab-df-container\">\n",
              "      <div>\n",
              "<style scoped>\n",
              "    .dataframe tbody tr th:only-of-type {\n",
              "        vertical-align: middle;\n",
              "    }\n",
              "\n",
              "    .dataframe tbody tr th {\n",
              "        vertical-align: top;\n",
              "    }\n",
              "\n",
              "    .dataframe thead th {\n",
              "        text-align: right;\n",
              "    }\n",
              "</style>\n",
              "<table border=\"1\" class=\"dataframe\">\n",
              "  <thead>\n",
              "    <tr style=\"text-align: right;\">\n",
              "      <th></th>\n",
              "      <th>ID</th>\n",
              "      <th>Age</th>\n",
              "      <th>Gender</th>\n",
              "      <th>Ethnicity</th>\n",
              "      <th>Marital</th>\n",
              "      <th>Livewith</th>\n",
              "      <th>Education</th>\n",
              "      <th>palpitations</th>\n",
              "      <th>orthopnea</th>\n",
              "      <th>chestpain</th>\n",
              "      <th>nausea</th>\n",
              "      <th>cough</th>\n",
              "      <th>fatigue</th>\n",
              "      <th>dyspnea</th>\n",
              "      <th>edema</th>\n",
              "      <th>PND</th>\n",
              "      <th>tightshoes</th>\n",
              "      <th>weightgain</th>\n",
              "      <th>DOE</th>\n",
              "      <th>delaydays</th>\n",
              "    </tr>\n",
              "  </thead>\n",
              "  <tbody>\n",
              "    <tr>\n",
              "      <th>0</th>\n",
              "      <td>1</td>\n",
              "      <td>77</td>\n",
              "      <td>2</td>\n",
              "      <td>1</td>\n",
              "      <td>3</td>\n",
              "      <td>1.0</td>\n",
              "      <td>2</td>\n",
              "      <td>2</td>\n",
              "      <td>2</td>\n",
              "      <td>3</td>\n",
              "      <td>2</td>\n",
              "      <td>1</td>\n",
              "      <td>3</td>\n",
              "      <td>3</td>\n",
              "      <td>1</td>\n",
              "      <td>0</td>\n",
              "      <td>0</td>\n",
              "      <td>0</td>\n",
              "      <td>0</td>\n",
              "      <td>0.041667</td>\n",
              "    </tr>\n",
              "    <tr>\n",
              "      <th>1</th>\n",
              "      <td>1</td>\n",
              "      <td>77</td>\n",
              "      <td>2</td>\n",
              "      <td>1</td>\n",
              "      <td>3</td>\n",
              "      <td>1.0</td>\n",
              "      <td>2</td>\n",
              "      <td>2</td>\n",
              "      <td>2</td>\n",
              "      <td>3</td>\n",
              "      <td>0</td>\n",
              "      <td>1</td>\n",
              "      <td>3</td>\n",
              "      <td>3</td>\n",
              "      <td>1</td>\n",
              "      <td>0</td>\n",
              "      <td>0</td>\n",
              "      <td>0</td>\n",
              "      <td>0</td>\n",
              "      <td>0.041667</td>\n",
              "    </tr>\n",
              "    <tr>\n",
              "      <th>2</th>\n",
              "      <td>2</td>\n",
              "      <td>61</td>\n",
              "      <td>2</td>\n",
              "      <td>1</td>\n",
              "      <td>1</td>\n",
              "      <td>2.0</td>\n",
              "      <td>2</td>\n",
              "      <td>0</td>\n",
              "      <td>3</td>\n",
              "      <td>0</td>\n",
              "      <td>3</td>\n",
              "      <td>0</td>\n",
              "      <td>0</td>\n",
              "      <td>3</td>\n",
              "      <td>3</td>\n",
              "      <td>0</td>\n",
              "      <td>0</td>\n",
              "      <td>3</td>\n",
              "      <td>0</td>\n",
              "      <td>0.165278</td>\n",
              "    </tr>\n",
              "    <tr>\n",
              "      <th>3</th>\n",
              "      <td>2</td>\n",
              "      <td>61</td>\n",
              "      <td>1</td>\n",
              "      <td>1</td>\n",
              "      <td>1</td>\n",
              "      <td>2.0</td>\n",
              "      <td>2</td>\n",
              "      <td>0</td>\n",
              "      <td>3</td>\n",
              "      <td>0</td>\n",
              "      <td>3</td>\n",
              "      <td>0</td>\n",
              "      <td>1</td>\n",
              "      <td>3</td>\n",
              "      <td>3</td>\n",
              "      <td>0</td>\n",
              "      <td>0</td>\n",
              "      <td>3</td>\n",
              "      <td>0</td>\n",
              "      <td>0.165278</td>\n",
              "    </tr>\n",
              "    <tr>\n",
              "      <th>4</th>\n",
              "      <td>3</td>\n",
              "      <td>50</td>\n",
              "      <td>1</td>\n",
              "      <td>3</td>\n",
              "      <td>1</td>\n",
              "      <td>2.0</td>\n",
              "      <td>3</td>\n",
              "      <td>0</td>\n",
              "      <td>2</td>\n",
              "      <td>0</td>\n",
              "      <td>0</td>\n",
              "      <td>0</td>\n",
              "      <td>3</td>\n",
              "      <td>2</td>\n",
              "      <td>1</td>\n",
              "      <td>2</td>\n",
              "      <td>3</td>\n",
              "      <td>3</td>\n",
              "      <td>3</td>\n",
              "      <td>0.494444</td>\n",
              "    </tr>\n",
              "    <tr>\n",
              "      <th>...</th>\n",
              "      <td>...</td>\n",
              "      <td>...</td>\n",
              "      <td>...</td>\n",
              "      <td>...</td>\n",
              "      <td>...</td>\n",
              "      <td>...</td>\n",
              "      <td>...</td>\n",
              "      <td>...</td>\n",
              "      <td>...</td>\n",
              "      <td>...</td>\n",
              "      <td>...</td>\n",
              "      <td>...</td>\n",
              "      <td>...</td>\n",
              "      <td>...</td>\n",
              "      <td>...</td>\n",
              "      <td>...</td>\n",
              "      <td>...</td>\n",
              "      <td>...</td>\n",
              "      <td>...</td>\n",
              "      <td>...</td>\n",
              "    </tr>\n",
              "    <tr>\n",
              "      <th>401</th>\n",
              "      <td>508</td>\n",
              "      <td>78</td>\n",
              "      <td>2</td>\n",
              "      <td>1</td>\n",
              "      <td>2</td>\n",
              "      <td>1.0</td>\n",
              "      <td>5</td>\n",
              "      <td>0</td>\n",
              "      <td>3</td>\n",
              "      <td>0</td>\n",
              "      <td>1</td>\n",
              "      <td>2</td>\n",
              "      <td>3</td>\n",
              "      <td>3</td>\n",
              "      <td>2</td>\n",
              "      <td>1</td>\n",
              "      <td>2</td>\n",
              "      <td>0</td>\n",
              "      <td>1</td>\n",
              "      <td>0.250000</td>\n",
              "    </tr>\n",
              "    <tr>\n",
              "      <th>402</th>\n",
              "      <td>509</td>\n",
              "      <td>88</td>\n",
              "      <td>2</td>\n",
              "      <td>1</td>\n",
              "      <td>2</td>\n",
              "      <td>1.0</td>\n",
              "      <td>2</td>\n",
              "      <td>0</td>\n",
              "      <td>0</td>\n",
              "      <td>0</td>\n",
              "      <td>2</td>\n",
              "      <td>1</td>\n",
              "      <td>2</td>\n",
              "      <td>0</td>\n",
              "      <td>3</td>\n",
              "      <td>0</td>\n",
              "      <td>3</td>\n",
              "      <td>0</td>\n",
              "      <td>0</td>\n",
              "      <td>14.000000</td>\n",
              "    </tr>\n",
              "    <tr>\n",
              "      <th>403</th>\n",
              "      <td>510</td>\n",
              "      <td>86</td>\n",
              "      <td>2</td>\n",
              "      <td>1</td>\n",
              "      <td>2</td>\n",
              "      <td>1.0</td>\n",
              "      <td>2</td>\n",
              "      <td>2</td>\n",
              "      <td>3</td>\n",
              "      <td>0</td>\n",
              "      <td>0</td>\n",
              "      <td>0</td>\n",
              "      <td>2</td>\n",
              "      <td>2</td>\n",
              "      <td>1</td>\n",
              "      <td>3</td>\n",
              "      <td>1</td>\n",
              "      <td>0</td>\n",
              "      <td>1</td>\n",
              "      <td>0.312500</td>\n",
              "    </tr>\n",
              "    <tr>\n",
              "      <th>404</th>\n",
              "      <td>511</td>\n",
              "      <td>67</td>\n",
              "      <td>1</td>\n",
              "      <td>1</td>\n",
              "      <td>1</td>\n",
              "      <td>2.0</td>\n",
              "      <td>1</td>\n",
              "      <td>0</td>\n",
              "      <td>3</td>\n",
              "      <td>0</td>\n",
              "      <td>0</td>\n",
              "      <td>2</td>\n",
              "      <td>2</td>\n",
              "      <td>3</td>\n",
              "      <td>0</td>\n",
              "      <td>3</td>\n",
              "      <td>0</td>\n",
              "      <td>3</td>\n",
              "      <td>2</td>\n",
              "      <td>0.500000</td>\n",
              "    </tr>\n",
              "    <tr>\n",
              "      <th>405</th>\n",
              "      <td>512</td>\n",
              "      <td>57</td>\n",
              "      <td>2</td>\n",
              "      <td>1</td>\n",
              "      <td>2</td>\n",
              "      <td>2.0</td>\n",
              "      <td>5</td>\n",
              "      <td>0</td>\n",
              "      <td>2</td>\n",
              "      <td>0</td>\n",
              "      <td>0</td>\n",
              "      <td>2</td>\n",
              "      <td>1</td>\n",
              "      <td>2</td>\n",
              "      <td>0</td>\n",
              "      <td>2</td>\n",
              "      <td>0</td>\n",
              "      <td>1</td>\n",
              "      <td>2</td>\n",
              "      <td>10.000000</td>\n",
              "    </tr>\n",
              "  </tbody>\n",
              "</table>\n",
              "<p>406 rows × 20 columns</p>\n",
              "</div>\n",
              "      <button class=\"colab-df-convert\" onclick=\"convertToInteractive('df-9b218cb9-74b2-4763-8c28-d771601d2b14')\"\n",
              "              title=\"Convert this dataframe to an interactive table.\"\n",
              "              style=\"display:none;\">\n",
              "        \n",
              "  <svg xmlns=\"http://www.w3.org/2000/svg\" height=\"24px\"viewBox=\"0 0 24 24\"\n",
              "       width=\"24px\">\n",
              "    <path d=\"M0 0h24v24H0V0z\" fill=\"none\"/>\n",
              "    <path d=\"M18.56 5.44l.94 2.06.94-2.06 2.06-.94-2.06-.94-.94-2.06-.94 2.06-2.06.94zm-11 1L8.5 8.5l.94-2.06 2.06-.94-2.06-.94L8.5 2.5l-.94 2.06-2.06.94zm10 10l.94 2.06.94-2.06 2.06-.94-2.06-.94-.94-2.06-.94 2.06-2.06.94z\"/><path d=\"M17.41 7.96l-1.37-1.37c-.4-.4-.92-.59-1.43-.59-.52 0-1.04.2-1.43.59L10.3 9.45l-7.72 7.72c-.78.78-.78 2.05 0 2.83L4 21.41c.39.39.9.59 1.41.59.51 0 1.02-.2 1.41-.59l7.78-7.78 2.81-2.81c.8-.78.8-2.07 0-2.86zM5.41 20L4 18.59l7.72-7.72 1.47 1.35L5.41 20z\"/>\n",
              "  </svg>\n",
              "      </button>\n",
              "      \n",
              "  <style>\n",
              "    .colab-df-container {\n",
              "      display:flex;\n",
              "      flex-wrap:wrap;\n",
              "      gap: 12px;\n",
              "    }\n",
              "\n",
              "    .colab-df-convert {\n",
              "      background-color: #E8F0FE;\n",
              "      border: none;\n",
              "      border-radius: 50%;\n",
              "      cursor: pointer;\n",
              "      display: none;\n",
              "      fill: #1967D2;\n",
              "      height: 32px;\n",
              "      padding: 0 0 0 0;\n",
              "      width: 32px;\n",
              "    }\n",
              "\n",
              "    .colab-df-convert:hover {\n",
              "      background-color: #E2EBFA;\n",
              "      box-shadow: 0px 1px 2px rgba(60, 64, 67, 0.3), 0px 1px 3px 1px rgba(60, 64, 67, 0.15);\n",
              "      fill: #174EA6;\n",
              "    }\n",
              "\n",
              "    [theme=dark] .colab-df-convert {\n",
              "      background-color: #3B4455;\n",
              "      fill: #D2E3FC;\n",
              "    }\n",
              "\n",
              "    [theme=dark] .colab-df-convert:hover {\n",
              "      background-color: #434B5C;\n",
              "      box-shadow: 0px 1px 3px 1px rgba(0, 0, 0, 0.15);\n",
              "      filter: drop-shadow(0px 1px 2px rgba(0, 0, 0, 0.3));\n",
              "      fill: #FFFFFF;\n",
              "    }\n",
              "  </style>\n",
              "\n",
              "      <script>\n",
              "        const buttonEl =\n",
              "          document.querySelector('#df-9b218cb9-74b2-4763-8c28-d771601d2b14 button.colab-df-convert');\n",
              "        buttonEl.style.display =\n",
              "          google.colab.kernel.accessAllowed ? 'block' : 'none';\n",
              "\n",
              "        async function convertToInteractive(key) {\n",
              "          const element = document.querySelector('#df-9b218cb9-74b2-4763-8c28-d771601d2b14');\n",
              "          const dataTable =\n",
              "            await google.colab.kernel.invokeFunction('convertToInteractive',\n",
              "                                                     [key], {});\n",
              "          if (!dataTable) return;\n",
              "\n",
              "          const docLinkHtml = 'Like what you see? Visit the ' +\n",
              "            '<a target=\"_blank\" href=https://colab.research.google.com/notebooks/data_table.ipynb>data table notebook</a>'\n",
              "            + ' to learn more about interactive tables.';\n",
              "          element.innerHTML = '';\n",
              "          dataTable['output_type'] = 'display_data';\n",
              "          await google.colab.output.renderOutput(dataTable, element);\n",
              "          const docLink = document.createElement('div');\n",
              "          docLink.innerHTML = docLinkHtml;\n",
              "          element.appendChild(docLink);\n",
              "        }\n",
              "      </script>\n",
              "    </div>\n",
              "  </div>\n",
              "  "
            ]
          },
          "metadata": {},
          "execution_count": 35
        }
      ]
    },
    {
      "cell_type": "markdown",
      "source": [
        "Creating dummy data"
      ],
      "metadata": {
        "id": "jy1kSoMT-Upz"
      }
    },
    {
      "cell_type": "code",
      "source": [
        "data_dummy = pd.get_dummies(data)\n",
        "data_dummy.dropna(inplace=True)\n",
        "data_dummy"
      ],
      "metadata": {
        "colab": {
          "base_uri": "https://localhost:8080/",
          "height": 487
        },
        "id": "8pi3QHIo-Lqk",
        "outputId": "1c375d19-6566-49c9-988c-0e1a7f36c0f3"
      },
      "execution_count": 36,
      "outputs": [
        {
          "output_type": "execute_result",
          "data": {
            "text/plain": [
              "      ID  Age  Gender  Ethnicity  Marital  Livewith  Education  palpitations  \\\n",
              "0      1   77       2          1        3       1.0          2             2   \n",
              "1      1   77       2          1        3       1.0          2             2   \n",
              "2      2   61       2          1        1       2.0          2             0   \n",
              "3      2   61       1          1        1       2.0          2             0   \n",
              "4      3   50       1          3        1       2.0          3             0   \n",
              "..   ...  ...     ...        ...      ...       ...        ...           ...   \n",
              "401  508   78       2          1        2       1.0          5             0   \n",
              "402  509   88       2          1        2       1.0          2             0   \n",
              "403  510   86       2          1        2       1.0          2             2   \n",
              "404  511   67       1          1        1       2.0          1             0   \n",
              "405  512   57       2          1        2       2.0          5             0   \n",
              "\n",
              "     orthopnea  chestpain  nausea  cough  fatigue  dyspnea  edema  PND  \\\n",
              "0            2          3       2      1        3        3      1    0   \n",
              "1            2          3       0      1        3        3      1    0   \n",
              "2            3          0       3      0        0        3      3    0   \n",
              "3            3          0       3      0        1        3      3    0   \n",
              "4            2          0       0      0        3        2      1    2   \n",
              "..         ...        ...     ...    ...      ...      ...    ...  ...   \n",
              "401          3          0       1      2        3        3      2    1   \n",
              "402          0          0       2      1        2        0      3    0   \n",
              "403          3          0       0      0        2        2      1    3   \n",
              "404          3          0       0      2        2        3      0    3   \n",
              "405          2          0       0      2        1        2      0    2   \n",
              "\n",
              "     tightshoes  weightgain  DOE  delaydays  \n",
              "0             0           0    0   0.041667  \n",
              "1             0           0    0   0.041667  \n",
              "2             0           3    0   0.165278  \n",
              "3             0           3    0   0.165278  \n",
              "4             3           3    3   0.494444  \n",
              "..          ...         ...  ...        ...  \n",
              "401           2           0    1   0.250000  \n",
              "402           3           0    0  14.000000  \n",
              "403           1           0    1   0.312500  \n",
              "404           0           3    2   0.500000  \n",
              "405           0           1    2  10.000000  \n",
              "\n",
              "[401 rows x 20 columns]"
            ],
            "text/html": [
              "\n",
              "  <div id=\"df-ce4ae508-c3e0-4482-b73b-34c0f4697981\">\n",
              "    <div class=\"colab-df-container\">\n",
              "      <div>\n",
              "<style scoped>\n",
              "    .dataframe tbody tr th:only-of-type {\n",
              "        vertical-align: middle;\n",
              "    }\n",
              "\n",
              "    .dataframe tbody tr th {\n",
              "        vertical-align: top;\n",
              "    }\n",
              "\n",
              "    .dataframe thead th {\n",
              "        text-align: right;\n",
              "    }\n",
              "</style>\n",
              "<table border=\"1\" class=\"dataframe\">\n",
              "  <thead>\n",
              "    <tr style=\"text-align: right;\">\n",
              "      <th></th>\n",
              "      <th>ID</th>\n",
              "      <th>Age</th>\n",
              "      <th>Gender</th>\n",
              "      <th>Ethnicity</th>\n",
              "      <th>Marital</th>\n",
              "      <th>Livewith</th>\n",
              "      <th>Education</th>\n",
              "      <th>palpitations</th>\n",
              "      <th>orthopnea</th>\n",
              "      <th>chestpain</th>\n",
              "      <th>nausea</th>\n",
              "      <th>cough</th>\n",
              "      <th>fatigue</th>\n",
              "      <th>dyspnea</th>\n",
              "      <th>edema</th>\n",
              "      <th>PND</th>\n",
              "      <th>tightshoes</th>\n",
              "      <th>weightgain</th>\n",
              "      <th>DOE</th>\n",
              "      <th>delaydays</th>\n",
              "    </tr>\n",
              "  </thead>\n",
              "  <tbody>\n",
              "    <tr>\n",
              "      <th>0</th>\n",
              "      <td>1</td>\n",
              "      <td>77</td>\n",
              "      <td>2</td>\n",
              "      <td>1</td>\n",
              "      <td>3</td>\n",
              "      <td>1.0</td>\n",
              "      <td>2</td>\n",
              "      <td>2</td>\n",
              "      <td>2</td>\n",
              "      <td>3</td>\n",
              "      <td>2</td>\n",
              "      <td>1</td>\n",
              "      <td>3</td>\n",
              "      <td>3</td>\n",
              "      <td>1</td>\n",
              "      <td>0</td>\n",
              "      <td>0</td>\n",
              "      <td>0</td>\n",
              "      <td>0</td>\n",
              "      <td>0.041667</td>\n",
              "    </tr>\n",
              "    <tr>\n",
              "      <th>1</th>\n",
              "      <td>1</td>\n",
              "      <td>77</td>\n",
              "      <td>2</td>\n",
              "      <td>1</td>\n",
              "      <td>3</td>\n",
              "      <td>1.0</td>\n",
              "      <td>2</td>\n",
              "      <td>2</td>\n",
              "      <td>2</td>\n",
              "      <td>3</td>\n",
              "      <td>0</td>\n",
              "      <td>1</td>\n",
              "      <td>3</td>\n",
              "      <td>3</td>\n",
              "      <td>1</td>\n",
              "      <td>0</td>\n",
              "      <td>0</td>\n",
              "      <td>0</td>\n",
              "      <td>0</td>\n",
              "      <td>0.041667</td>\n",
              "    </tr>\n",
              "    <tr>\n",
              "      <th>2</th>\n",
              "      <td>2</td>\n",
              "      <td>61</td>\n",
              "      <td>2</td>\n",
              "      <td>1</td>\n",
              "      <td>1</td>\n",
              "      <td>2.0</td>\n",
              "      <td>2</td>\n",
              "      <td>0</td>\n",
              "      <td>3</td>\n",
              "      <td>0</td>\n",
              "      <td>3</td>\n",
              "      <td>0</td>\n",
              "      <td>0</td>\n",
              "      <td>3</td>\n",
              "      <td>3</td>\n",
              "      <td>0</td>\n",
              "      <td>0</td>\n",
              "      <td>3</td>\n",
              "      <td>0</td>\n",
              "      <td>0.165278</td>\n",
              "    </tr>\n",
              "    <tr>\n",
              "      <th>3</th>\n",
              "      <td>2</td>\n",
              "      <td>61</td>\n",
              "      <td>1</td>\n",
              "      <td>1</td>\n",
              "      <td>1</td>\n",
              "      <td>2.0</td>\n",
              "      <td>2</td>\n",
              "      <td>0</td>\n",
              "      <td>3</td>\n",
              "      <td>0</td>\n",
              "      <td>3</td>\n",
              "      <td>0</td>\n",
              "      <td>1</td>\n",
              "      <td>3</td>\n",
              "      <td>3</td>\n",
              "      <td>0</td>\n",
              "      <td>0</td>\n",
              "      <td>3</td>\n",
              "      <td>0</td>\n",
              "      <td>0.165278</td>\n",
              "    </tr>\n",
              "    <tr>\n",
              "      <th>4</th>\n",
              "      <td>3</td>\n",
              "      <td>50</td>\n",
              "      <td>1</td>\n",
              "      <td>3</td>\n",
              "      <td>1</td>\n",
              "      <td>2.0</td>\n",
              "      <td>3</td>\n",
              "      <td>0</td>\n",
              "      <td>2</td>\n",
              "      <td>0</td>\n",
              "      <td>0</td>\n",
              "      <td>0</td>\n",
              "      <td>3</td>\n",
              "      <td>2</td>\n",
              "      <td>1</td>\n",
              "      <td>2</td>\n",
              "      <td>3</td>\n",
              "      <td>3</td>\n",
              "      <td>3</td>\n",
              "      <td>0.494444</td>\n",
              "    </tr>\n",
              "    <tr>\n",
              "      <th>...</th>\n",
              "      <td>...</td>\n",
              "      <td>...</td>\n",
              "      <td>...</td>\n",
              "      <td>...</td>\n",
              "      <td>...</td>\n",
              "      <td>...</td>\n",
              "      <td>...</td>\n",
              "      <td>...</td>\n",
              "      <td>...</td>\n",
              "      <td>...</td>\n",
              "      <td>...</td>\n",
              "      <td>...</td>\n",
              "      <td>...</td>\n",
              "      <td>...</td>\n",
              "      <td>...</td>\n",
              "      <td>...</td>\n",
              "      <td>...</td>\n",
              "      <td>...</td>\n",
              "      <td>...</td>\n",
              "      <td>...</td>\n",
              "    </tr>\n",
              "    <tr>\n",
              "      <th>401</th>\n",
              "      <td>508</td>\n",
              "      <td>78</td>\n",
              "      <td>2</td>\n",
              "      <td>1</td>\n",
              "      <td>2</td>\n",
              "      <td>1.0</td>\n",
              "      <td>5</td>\n",
              "      <td>0</td>\n",
              "      <td>3</td>\n",
              "      <td>0</td>\n",
              "      <td>1</td>\n",
              "      <td>2</td>\n",
              "      <td>3</td>\n",
              "      <td>3</td>\n",
              "      <td>2</td>\n",
              "      <td>1</td>\n",
              "      <td>2</td>\n",
              "      <td>0</td>\n",
              "      <td>1</td>\n",
              "      <td>0.250000</td>\n",
              "    </tr>\n",
              "    <tr>\n",
              "      <th>402</th>\n",
              "      <td>509</td>\n",
              "      <td>88</td>\n",
              "      <td>2</td>\n",
              "      <td>1</td>\n",
              "      <td>2</td>\n",
              "      <td>1.0</td>\n",
              "      <td>2</td>\n",
              "      <td>0</td>\n",
              "      <td>0</td>\n",
              "      <td>0</td>\n",
              "      <td>2</td>\n",
              "      <td>1</td>\n",
              "      <td>2</td>\n",
              "      <td>0</td>\n",
              "      <td>3</td>\n",
              "      <td>0</td>\n",
              "      <td>3</td>\n",
              "      <td>0</td>\n",
              "      <td>0</td>\n",
              "      <td>14.000000</td>\n",
              "    </tr>\n",
              "    <tr>\n",
              "      <th>403</th>\n",
              "      <td>510</td>\n",
              "      <td>86</td>\n",
              "      <td>2</td>\n",
              "      <td>1</td>\n",
              "      <td>2</td>\n",
              "      <td>1.0</td>\n",
              "      <td>2</td>\n",
              "      <td>2</td>\n",
              "      <td>3</td>\n",
              "      <td>0</td>\n",
              "      <td>0</td>\n",
              "      <td>0</td>\n",
              "      <td>2</td>\n",
              "      <td>2</td>\n",
              "      <td>1</td>\n",
              "      <td>3</td>\n",
              "      <td>1</td>\n",
              "      <td>0</td>\n",
              "      <td>1</td>\n",
              "      <td>0.312500</td>\n",
              "    </tr>\n",
              "    <tr>\n",
              "      <th>404</th>\n",
              "      <td>511</td>\n",
              "      <td>67</td>\n",
              "      <td>1</td>\n",
              "      <td>1</td>\n",
              "      <td>1</td>\n",
              "      <td>2.0</td>\n",
              "      <td>1</td>\n",
              "      <td>0</td>\n",
              "      <td>3</td>\n",
              "      <td>0</td>\n",
              "      <td>0</td>\n",
              "      <td>2</td>\n",
              "      <td>2</td>\n",
              "      <td>3</td>\n",
              "      <td>0</td>\n",
              "      <td>3</td>\n",
              "      <td>0</td>\n",
              "      <td>3</td>\n",
              "      <td>2</td>\n",
              "      <td>0.500000</td>\n",
              "    </tr>\n",
              "    <tr>\n",
              "      <th>405</th>\n",
              "      <td>512</td>\n",
              "      <td>57</td>\n",
              "      <td>2</td>\n",
              "      <td>1</td>\n",
              "      <td>2</td>\n",
              "      <td>2.0</td>\n",
              "      <td>5</td>\n",
              "      <td>0</td>\n",
              "      <td>2</td>\n",
              "      <td>0</td>\n",
              "      <td>0</td>\n",
              "      <td>2</td>\n",
              "      <td>1</td>\n",
              "      <td>2</td>\n",
              "      <td>0</td>\n",
              "      <td>2</td>\n",
              "      <td>0</td>\n",
              "      <td>1</td>\n",
              "      <td>2</td>\n",
              "      <td>10.000000</td>\n",
              "    </tr>\n",
              "  </tbody>\n",
              "</table>\n",
              "<p>401 rows × 20 columns</p>\n",
              "</div>\n",
              "      <button class=\"colab-df-convert\" onclick=\"convertToInteractive('df-ce4ae508-c3e0-4482-b73b-34c0f4697981')\"\n",
              "              title=\"Convert this dataframe to an interactive table.\"\n",
              "              style=\"display:none;\">\n",
              "        \n",
              "  <svg xmlns=\"http://www.w3.org/2000/svg\" height=\"24px\"viewBox=\"0 0 24 24\"\n",
              "       width=\"24px\">\n",
              "    <path d=\"M0 0h24v24H0V0z\" fill=\"none\"/>\n",
              "    <path d=\"M18.56 5.44l.94 2.06.94-2.06 2.06-.94-2.06-.94-.94-2.06-.94 2.06-2.06.94zm-11 1L8.5 8.5l.94-2.06 2.06-.94-2.06-.94L8.5 2.5l-.94 2.06-2.06.94zm10 10l.94 2.06.94-2.06 2.06-.94-2.06-.94-.94-2.06-.94 2.06-2.06.94z\"/><path d=\"M17.41 7.96l-1.37-1.37c-.4-.4-.92-.59-1.43-.59-.52 0-1.04.2-1.43.59L10.3 9.45l-7.72 7.72c-.78.78-.78 2.05 0 2.83L4 21.41c.39.39.9.59 1.41.59.51 0 1.02-.2 1.41-.59l7.78-7.78 2.81-2.81c.8-.78.8-2.07 0-2.86zM5.41 20L4 18.59l7.72-7.72 1.47 1.35L5.41 20z\"/>\n",
              "  </svg>\n",
              "      </button>\n",
              "      \n",
              "  <style>\n",
              "    .colab-df-container {\n",
              "      display:flex;\n",
              "      flex-wrap:wrap;\n",
              "      gap: 12px;\n",
              "    }\n",
              "\n",
              "    .colab-df-convert {\n",
              "      background-color: #E8F0FE;\n",
              "      border: none;\n",
              "      border-radius: 50%;\n",
              "      cursor: pointer;\n",
              "      display: none;\n",
              "      fill: #1967D2;\n",
              "      height: 32px;\n",
              "      padding: 0 0 0 0;\n",
              "      width: 32px;\n",
              "    }\n",
              "\n",
              "    .colab-df-convert:hover {\n",
              "      background-color: #E2EBFA;\n",
              "      box-shadow: 0px 1px 2px rgba(60, 64, 67, 0.3), 0px 1px 3px 1px rgba(60, 64, 67, 0.15);\n",
              "      fill: #174EA6;\n",
              "    }\n",
              "\n",
              "    [theme=dark] .colab-df-convert {\n",
              "      background-color: #3B4455;\n",
              "      fill: #D2E3FC;\n",
              "    }\n",
              "\n",
              "    [theme=dark] .colab-df-convert:hover {\n",
              "      background-color: #434B5C;\n",
              "      box-shadow: 0px 1px 3px 1px rgba(0, 0, 0, 0.15);\n",
              "      filter: drop-shadow(0px 1px 2px rgba(0, 0, 0, 0.3));\n",
              "      fill: #FFFFFF;\n",
              "    }\n",
              "  </style>\n",
              "\n",
              "      <script>\n",
              "        const buttonEl =\n",
              "          document.querySelector('#df-ce4ae508-c3e0-4482-b73b-34c0f4697981 button.colab-df-convert');\n",
              "        buttonEl.style.display =\n",
              "          google.colab.kernel.accessAllowed ? 'block' : 'none';\n",
              "\n",
              "        async function convertToInteractive(key) {\n",
              "          const element = document.querySelector('#df-ce4ae508-c3e0-4482-b73b-34c0f4697981');\n",
              "          const dataTable =\n",
              "            await google.colab.kernel.invokeFunction('convertToInteractive',\n",
              "                                                     [key], {});\n",
              "          if (!dataTable) return;\n",
              "\n",
              "          const docLinkHtml = 'Like what you see? Visit the ' +\n",
              "            '<a target=\"_blank\" href=https://colab.research.google.com/notebooks/data_table.ipynb>data table notebook</a>'\n",
              "            + ' to learn more about interactive tables.';\n",
              "          element.innerHTML = '';\n",
              "          dataTable['output_type'] = 'display_data';\n",
              "          await google.colab.output.renderOutput(dataTable, element);\n",
              "          const docLink = document.createElement('div');\n",
              "          docLink.innerHTML = docLinkHtml;\n",
              "          element.appendChild(docLink);\n",
              "        }\n",
              "      </script>\n",
              "    </div>\n",
              "  </div>\n",
              "  "
            ]
          },
          "metadata": {},
          "execution_count": 36
        }
      ]
    },
    {
      "cell_type": "code",
      "source": [
        "data_dummy[\"delaydays_2or_less\"] = np.where(data_dummy[\"delaydays\"] <= 2, 1, 0)"
      ],
      "metadata": {
        "id": "DpWkny__-YNV"
      },
      "execution_count": 37,
      "outputs": []
    },
    {
      "cell_type": "code",
      "source": [
        "X = data_dummy.drop([\"ID\", \"delaydays\", \"delaydays_2or_less\"], axis=1)\n",
        "y = data_dummy[\"delaydays_2or_less\"]"
      ],
      "metadata": {
        "id": "LxbHQeoh-aIe"
      },
      "execution_count": 38,
      "outputs": []
    },
    {
      "cell_type": "markdown",
      "source": [
        "training the data set"
      ],
      "metadata": {
        "id": "ErsnL9xf-eg1"
      }
    },
    {
      "cell_type": "code",
      "source": [
        "X_train, X_test, y_train, y_test = train_test_split(X, y, test_size=0.3, random_state=42)"
      ],
      "metadata": {
        "id": "tpoODkUg-eAv"
      },
      "execution_count": 39,
      "outputs": []
    },
    {
      "cell_type": "code",
      "source": [
        "model = LogisticRegression()\n",
        "model.fit(X_train, y_train)"
      ],
      "metadata": {
        "colab": {
          "base_uri": "https://localhost:8080/",
          "height": 74
        },
        "id": "-5DocpkP-b-X",
        "outputId": "58d4ad8b-1a97-49f2-bce7-80d752ab4eea"
      },
      "execution_count": 40,
      "outputs": [
        {
          "output_type": "execute_result",
          "data": {
            "text/plain": [
              "LogisticRegression()"
            ],
            "text/html": [
              "<style>#sk-container-id-3 {color: black;background-color: white;}#sk-container-id-3 pre{padding: 0;}#sk-container-id-3 div.sk-toggleable {background-color: white;}#sk-container-id-3 label.sk-toggleable__label {cursor: pointer;display: block;width: 100%;margin-bottom: 0;padding: 0.3em;box-sizing: border-box;text-align: center;}#sk-container-id-3 label.sk-toggleable__label-arrow:before {content: \"▸\";float: left;margin-right: 0.25em;color: #696969;}#sk-container-id-3 label.sk-toggleable__label-arrow:hover:before {color: black;}#sk-container-id-3 div.sk-estimator:hover label.sk-toggleable__label-arrow:before {color: black;}#sk-container-id-3 div.sk-toggleable__content {max-height: 0;max-width: 0;overflow: hidden;text-align: left;background-color: #f0f8ff;}#sk-container-id-3 div.sk-toggleable__content pre {margin: 0.2em;color: black;border-radius: 0.25em;background-color: #f0f8ff;}#sk-container-id-3 input.sk-toggleable__control:checked~div.sk-toggleable__content {max-height: 200px;max-width: 100%;overflow: auto;}#sk-container-id-3 input.sk-toggleable__control:checked~label.sk-toggleable__label-arrow:before {content: \"▾\";}#sk-container-id-3 div.sk-estimator input.sk-toggleable__control:checked~label.sk-toggleable__label {background-color: #d4ebff;}#sk-container-id-3 div.sk-label input.sk-toggleable__control:checked~label.sk-toggleable__label {background-color: #d4ebff;}#sk-container-id-3 input.sk-hidden--visually {border: 0;clip: rect(1px 1px 1px 1px);clip: rect(1px, 1px, 1px, 1px);height: 1px;margin: -1px;overflow: hidden;padding: 0;position: absolute;width: 1px;}#sk-container-id-3 div.sk-estimator {font-family: monospace;background-color: #f0f8ff;border: 1px dotted black;border-radius: 0.25em;box-sizing: border-box;margin-bottom: 0.5em;}#sk-container-id-3 div.sk-estimator:hover {background-color: #d4ebff;}#sk-container-id-3 div.sk-parallel-item::after {content: \"\";width: 100%;border-bottom: 1px solid gray;flex-grow: 1;}#sk-container-id-3 div.sk-label:hover label.sk-toggleable__label {background-color: #d4ebff;}#sk-container-id-3 div.sk-serial::before {content: \"\";position: absolute;border-left: 1px solid gray;box-sizing: border-box;top: 0;bottom: 0;left: 50%;z-index: 0;}#sk-container-id-3 div.sk-serial {display: flex;flex-direction: column;align-items: center;background-color: white;padding-right: 0.2em;padding-left: 0.2em;position: relative;}#sk-container-id-3 div.sk-item {position: relative;z-index: 1;}#sk-container-id-3 div.sk-parallel {display: flex;align-items: stretch;justify-content: center;background-color: white;position: relative;}#sk-container-id-3 div.sk-item::before, #sk-container-id-3 div.sk-parallel-item::before {content: \"\";position: absolute;border-left: 1px solid gray;box-sizing: border-box;top: 0;bottom: 0;left: 50%;z-index: -1;}#sk-container-id-3 div.sk-parallel-item {display: flex;flex-direction: column;z-index: 1;position: relative;background-color: white;}#sk-container-id-3 div.sk-parallel-item:first-child::after {align-self: flex-end;width: 50%;}#sk-container-id-3 div.sk-parallel-item:last-child::after {align-self: flex-start;width: 50%;}#sk-container-id-3 div.sk-parallel-item:only-child::after {width: 0;}#sk-container-id-3 div.sk-dashed-wrapped {border: 1px dashed gray;margin: 0 0.4em 0.5em 0.4em;box-sizing: border-box;padding-bottom: 0.4em;background-color: white;}#sk-container-id-3 div.sk-label label {font-family: monospace;font-weight: bold;display: inline-block;line-height: 1.2em;}#sk-container-id-3 div.sk-label-container {text-align: center;}#sk-container-id-3 div.sk-container {/* jupyter's `normalize.less` sets `[hidden] { display: none; }` but bootstrap.min.css set `[hidden] { display: none !important; }` so we also need the `!important` here to be able to override the default hidden behavior on the sphinx rendered scikit-learn.org. See: https://github.com/scikit-learn/scikit-learn/issues/21755 */display: inline-block !important;position: relative;}#sk-container-id-3 div.sk-text-repr-fallback {display: none;}</style><div id=\"sk-container-id-3\" class=\"sk-top-container\"><div class=\"sk-text-repr-fallback\"><pre>LogisticRegression()</pre><b>In a Jupyter environment, please rerun this cell to show the HTML representation or trust the notebook. <br />On GitHub, the HTML representation is unable to render, please try loading this page with nbviewer.org.</b></div><div class=\"sk-container\" hidden><div class=\"sk-item\"><div class=\"sk-estimator sk-toggleable\"><input class=\"sk-toggleable__control sk-hidden--visually\" id=\"sk-estimator-id-3\" type=\"checkbox\" checked><label for=\"sk-estimator-id-3\" class=\"sk-toggleable__label sk-toggleable__label-arrow\">LogisticRegression</label><div class=\"sk-toggleable__content\"><pre>LogisticRegression()</pre></div></div></div></div></div>"
            ]
          },
          "metadata": {},
          "execution_count": 40
        }
      ]
    },
    {
      "cell_type": "code",
      "source": [
        "y_pred = model.predict(X_test)\n",
        "print(y_pred)"
      ],
      "metadata": {
        "colab": {
          "base_uri": "https://localhost:8080/"
        },
        "id": "GF8k1Xpc-jKU",
        "outputId": "19341002-9deb-42ab-c178-9774b8fec119"
      },
      "execution_count": 41,
      "outputs": [
        {
          "output_type": "stream",
          "name": "stdout",
          "text": [
            "[0 1 0 0 1 0 1 1 1 0 1 1 1 0 1 1 0 1 0 0 1 0 0 1 1 1 0 0 1 1 0 0 0 1 0 0 0\n",
            " 0 0 0 1 0 1 1 0 1 1 1 0 1 0 1 1 0 1 1 1 0 0 1 0 1 1 0 1 0 0 0 0 0 1 0 0 1\n",
            " 0 1 0 1 0 1 1 1 0 0 1 1 0 0 0 1 1 0 1 0 0 1 1 0 0 1 0 0 0 1 1 1 1 0 1 1 0\n",
            " 0 0 0 0 0 0 0 0 1 0]\n"
          ]
        }
      ]
    },
    {
      "cell_type": "code",
      "source": [
        "accuracy = accuracy_score(y_test, y_pred)\n",
        "print('Accuracy:', accuracy)"
      ],
      "metadata": {
        "colab": {
          "base_uri": "https://localhost:8080/"
        },
        "id": "IrFp8k_e-mFm",
        "outputId": "b51a7749-b832-4aad-ffb2-09d4433305d7"
      },
      "execution_count": 42,
      "outputs": [
        {
          "output_type": "stream",
          "name": "stdout",
          "text": [
            "Accuracy: 0.5289256198347108\n"
          ]
        }
      ]
    },
    {
      "cell_type": "code",
      "source": [
        "X = sm.add_constant(X)"
      ],
      "metadata": {
        "id": "Nku0oO2w-oAP"
      },
      "execution_count": 43,
      "outputs": []
    },
    {
      "cell_type": "code",
      "source": [
        "logistic_model = sm.Logit(y_train, X_train).fit()"
      ],
      "metadata": {
        "colab": {
          "base_uri": "https://localhost:8080/"
        },
        "id": "SJDdqSXz-qVC",
        "outputId": "eae33ab7-a00f-4fc9-cf54-8e5e54a31d13"
      },
      "execution_count": 44,
      "outputs": [
        {
          "output_type": "stream",
          "name": "stdout",
          "text": [
            "Optimization terminated successfully.\n",
            "         Current function value: 0.650595\n",
            "         Iterations 5\n"
          ]
        }
      ]
    },
    {
      "cell_type": "code",
      "source": [
        "print(logistic_model.summary())"
      ],
      "metadata": {
        "colab": {
          "base_uri": "https://localhost:8080/"
        },
        "id": "59FM53hn-sdF",
        "outputId": "fc57ddc3-9dc7-49a7-f77f-e1ba49ffcbf6"
      },
      "execution_count": 45,
      "outputs": [
        {
          "output_type": "stream",
          "name": "stdout",
          "text": [
            "                           Logit Regression Results                           \n",
            "==============================================================================\n",
            "Dep. Variable:     delaydays_2or_less   No. Observations:                  280\n",
            "Model:                          Logit   Df Residuals:                      262\n",
            "Method:                           MLE   Df Model:                           17\n",
            "Date:                Mon, 20 Mar 2023   Pseudo R-squ.:                 0.06125\n",
            "Time:                        03:12:01   Log-Likelihood:                -182.17\n",
            "converged:                       True   LL-Null:                       -194.05\n",
            "Covariance Type:            nonrobust   LLR p-value:                    0.1258\n",
            "================================================================================\n",
            "                   coef    std err          z      P>|z|      [0.025      0.975]\n",
            "--------------------------------------------------------------------------------\n",
            "Age              0.0201      0.008      2.527      0.012       0.005       0.036\n",
            "Gender          -0.0526      0.255     -0.206      0.837      -0.552       0.447\n",
            "Ethnicity       -0.0302      0.220     -0.137      0.891      -0.461       0.401\n",
            "Marital          0.0189      0.186      0.101      0.919      -0.346       0.384\n",
            "Livewith        -0.2625      0.263     -0.996      0.319      -0.779       0.254\n",
            "Education       -0.0906      0.098     -0.926      0.355      -0.283       0.101\n",
            "palpitations    -0.0032      0.158     -0.020      0.984      -0.314       0.307\n",
            "orthopnea       -0.0969      0.141     -0.688      0.492      -0.373       0.179\n",
            "chestpain        0.0325      0.157      0.207      0.836      -0.276       0.340\n",
            "nausea          -0.0484      0.167     -0.290      0.772      -0.375       0.278\n",
            "cough           -0.3660      0.137     -2.671      0.008      -0.635      -0.097\n",
            "fatigue         -0.0454      0.167     -0.272      0.785      -0.372       0.281\n",
            "dyspnea          0.1478      0.167      0.883      0.377      -0.180       0.476\n",
            "edema           -0.1941      0.146     -1.328      0.184      -0.481       0.092\n",
            "PND             -0.1304      0.132     -0.984      0.325      -0.390       0.129\n",
            "tightshoes      -0.0092      0.160     -0.057      0.954      -0.323       0.305\n",
            "weightgain       0.0869      0.136      0.638      0.523      -0.180       0.354\n",
            "DOE             -0.0711      0.153     -0.464      0.643      -0.371       0.229\n",
            "================================================================================\n"
          ]
        }
      ]
    },
    {
      "cell_type": "markdown",
      "source": [
        "Print the coefficients in descending order"
      ],
      "metadata": {
        "id": "zUKBI1uB-wex"
      }
    },
    {
      "cell_type": "code",
      "source": [
        "coef = pd.DataFrame({'coef': model.coef_[0], 'variable': X_train.columns})\n",
        "coef = coef.sort_values(by='coef', ascending=False)\n",
        "print(coef)"
      ],
      "metadata": {
        "colab": {
          "base_uri": "https://localhost:8080/"
        },
        "id": "pjl0Rj2m-uxP",
        "outputId": "589e8cd7-fb89-407d-ed33-44c7094a8cfd"
      },
      "execution_count": 46,
      "outputs": [
        {
          "output_type": "stream",
          "name": "stdout",
          "text": [
            "        coef      variable\n",
            "12  0.135932       dyspnea\n",
            "16  0.078144    weightgain\n",
            "8   0.031612     chestpain\n",
            "0   0.015405           Age\n",
            "6   0.000811  palpitations\n",
            "15 -0.024278    tightshoes\n",
            "3  -0.037092       Marital\n",
            "2  -0.043023     Ethnicity\n",
            "9  -0.044689        nausea\n",
            "11 -0.060164       fatigue\n",
            "17 -0.074446           DOE\n",
            "1  -0.081502        Gender\n",
            "7  -0.095600     orthopnea\n",
            "5  -0.108649     Education\n",
            "14 -0.132882           PND\n",
            "13 -0.193463         edema\n",
            "4  -0.346606      Livewith\n",
            "10 -0.364309         cough\n"
          ]
        }
      ]
    },
    {
      "cell_type": "markdown",
      "source": [
        "To modify the logistic regression model to predict whether a person seeks medical treatment on or less than the cohort average delay days (“1”) or takes longer than the average number of days to seek medical treatment (“0”)"
      ],
      "metadata": {
        "id": "x-J_sGKY-1Ih"
      }
    },
    {
      "cell_type": "code",
      "source": [
        "avg_delay_days = data_dummy['delaydays'].mean()\n",
        "print(avg_delay_days)"
      ],
      "metadata": {
        "colab": {
          "base_uri": "https://localhost:8080/"
        },
        "id": "oXojPoV4-ySU",
        "outputId": "b08fd182-4ebe-487d-e72d-dfdaf8cfe683"
      },
      "execution_count": 47,
      "outputs": [
        {
          "output_type": "stream",
          "name": "stdout",
          "text": [
            "5.714436478244371\n"
          ]
        }
      ]
    },
    {
      "cell_type": "markdown",
      "source": [
        "creating a binary outcome variable"
      ],
      "metadata": {
        "id": "c0XReS5c-46Y"
      }
    },
    {
      "cell_type": "code",
      "source": [
        "data_dummy['delaydays_outcome'] = (data_dummy['delaydays'] <= avg_delay_days).astype(int)\n",
        "data_dummy['delaydays_outcome']"
      ],
      "metadata": {
        "colab": {
          "base_uri": "https://localhost:8080/"
        },
        "id": "wM9GwTRY-4Z7",
        "outputId": "049e8750-6d91-48fb-9f23-b772d7d137c1"
      },
      "execution_count": 48,
      "outputs": [
        {
          "output_type": "execute_result",
          "data": {
            "text/plain": [
              "0      1\n",
              "1      1\n",
              "2      1\n",
              "3      1\n",
              "4      1\n",
              "      ..\n",
              "401    1\n",
              "402    0\n",
              "403    1\n",
              "404    1\n",
              "405    0\n",
              "Name: delaydays_outcome, Length: 401, dtype: int64"
            ]
          },
          "metadata": {},
          "execution_count": 48
        }
      ]
    },
    {
      "cell_type": "code",
      "source": [
        "X = data_dummy[['Age', 'Gender', 'Ethnicity', 'Marital', 'Livewith', 'Education', 'palpitations', 'orthopnea', 'chestpain', 'nausea', 'cough', 'fatigue', 'dyspnea', 'edema', 'PND', 'tightshoes', 'weightgain', 'DOE']]\n",
        "y = data_dummy['delaydays_outcome']"
      ],
      "metadata": {
        "id": "YyQ5f3CT-8Go"
      },
      "execution_count": 49,
      "outputs": []
    },
    {
      "cell_type": "code",
      "source": [
        "X = sm.add_constant(X)\n",
        "log_reg_avg = sm.Logit(y, X).fit()"
      ],
      "metadata": {
        "colab": {
          "base_uri": "https://localhost:8080/"
        },
        "id": "KeGSN0FL_B9q",
        "outputId": "959ffd36-6644-4269-aa86-cc6e11db2c12"
      },
      "execution_count": 50,
      "outputs": [
        {
          "output_type": "stream",
          "name": "stdout",
          "text": [
            "Optimization terminated successfully.\n",
            "         Current function value: 0.583225\n",
            "         Iterations 5\n"
          ]
        }
      ]
    },
    {
      "cell_type": "markdown",
      "source": [
        "Finding the summary of the data"
      ],
      "metadata": {
        "id": "wQjWe9T4AiqN"
      }
    },
    {
      "cell_type": "code",
      "source": [
        "log_reg_avg.summary()\n"
      ],
      "metadata": {
        "colab": {
          "base_uri": "https://localhost:8080/",
          "height": 603
        },
        "id": "8iVq-sb6_D2O",
        "outputId": "59dfb999-a6fe-4ed9-f042-d8c2b0bce02c"
      },
      "execution_count": 51,
      "outputs": [
        {
          "output_type": "execute_result",
          "data": {
            "text/plain": [
              "<class 'statsmodels.iolib.summary.Summary'>\n",
              "\"\"\"\n",
              "                           Logit Regression Results                           \n",
              "==============================================================================\n",
              "Dep. Variable:      delaydays_outcome   No. Observations:                  401\n",
              "Model:                          Logit   Df Residuals:                      382\n",
              "Method:                           MLE   Df Model:                           18\n",
              "Date:                Mon, 20 Mar 2023   Pseudo R-squ.:                 0.04089\n",
              "Time:                        03:12:01   Log-Likelihood:                -233.87\n",
              "converged:                       True   LL-Null:                       -243.85\n",
              "Covariance Type:            nonrobust   LLR p-value:                    0.3360\n",
              "================================================================================\n",
              "                   coef    std err          z      P>|z|      [0.025      0.975]\n",
              "--------------------------------------------------------------------------------\n",
              "const            1.2585      1.276      0.986      0.324      -1.243       3.760\n",
              "Age              0.0032      0.010      0.325      0.745      -0.016       0.023\n",
              "Gender          -0.0691      0.233     -0.296      0.767      -0.526       0.388\n",
              "Ethnicity        0.0096      0.197      0.048      0.961      -0.377       0.396\n",
              "Marital          0.0004      0.191      0.002      0.998      -0.373       0.374\n",
              "Livewith         0.0647      0.285      0.227      0.820      -0.494       0.623\n",
              "Education        0.0023      0.083      0.027      0.978      -0.161       0.166\n",
              "palpitations    -0.0467      0.136     -0.344      0.731      -0.312       0.219\n",
              "orthopnea        0.0203      0.126      0.161      0.872      -0.227       0.268\n",
              "chestpain        0.0874      0.135      0.647      0.517      -0.177       0.352\n",
              "nausea          -0.3109      0.139     -2.242      0.025      -0.583      -0.039\n",
              "cough           -0.0687      0.121     -0.567      0.571      -0.306       0.169\n",
              "fatigue          0.1391      0.148      0.941      0.347      -0.151       0.429\n",
              "dyspnea          0.0499      0.147      0.340      0.734      -0.238       0.338\n",
              "edema           -0.3102      0.129     -2.399      0.016      -0.564      -0.057\n",
              "PND             -0.1798      0.119     -1.505      0.132      -0.414       0.054\n",
              "tightshoes       0.0806      0.137      0.588      0.557      -0.188       0.349\n",
              "weightgain       0.1456      0.121      1.206      0.228      -0.091       0.382\n",
              "DOE             -0.2216      0.135     -1.637      0.102      -0.487       0.044\n",
              "================================================================================\n",
              "\"\"\""
            ],
            "text/html": [
              "<table class=\"simpletable\">\n",
              "<caption>Logit Regression Results</caption>\n",
              "<tr>\n",
              "  <th>Dep. Variable:</th>   <td>delaydays_outcome</td> <th>  No. Observations:  </th>  <td>   401</td> \n",
              "</tr>\n",
              "<tr>\n",
              "  <th>Model:</th>                 <td>Logit</td>       <th>  Df Residuals:      </th>  <td>   382</td> \n",
              "</tr>\n",
              "<tr>\n",
              "  <th>Method:</th>                 <td>MLE</td>        <th>  Df Model:          </th>  <td>    18</td> \n",
              "</tr>\n",
              "<tr>\n",
              "  <th>Date:</th>            <td>Mon, 20 Mar 2023</td>  <th>  Pseudo R-squ.:     </th>  <td>0.04089</td>\n",
              "</tr>\n",
              "<tr>\n",
              "  <th>Time:</th>                <td>03:12:01</td>      <th>  Log-Likelihood:    </th> <td> -233.87</td>\n",
              "</tr>\n",
              "<tr>\n",
              "  <th>converged:</th>             <td>True</td>        <th>  LL-Null:           </th> <td> -243.85</td>\n",
              "</tr>\n",
              "<tr>\n",
              "  <th>Covariance Type:</th>     <td>nonrobust</td>     <th>  LLR p-value:       </th>  <td>0.3360</td> \n",
              "</tr>\n",
              "</table>\n",
              "<table class=\"simpletable\">\n",
              "<tr>\n",
              "        <td></td>          <th>coef</th>     <th>std err</th>      <th>z</th>      <th>P>|z|</th>  <th>[0.025</th>    <th>0.975]</th>  \n",
              "</tr>\n",
              "<tr>\n",
              "  <th>const</th>        <td>    1.2585</td> <td>    1.276</td> <td>    0.986</td> <td> 0.324</td> <td>   -1.243</td> <td>    3.760</td>\n",
              "</tr>\n",
              "<tr>\n",
              "  <th>Age</th>          <td>    0.0032</td> <td>    0.010</td> <td>    0.325</td> <td> 0.745</td> <td>   -0.016</td> <td>    0.023</td>\n",
              "</tr>\n",
              "<tr>\n",
              "  <th>Gender</th>       <td>   -0.0691</td> <td>    0.233</td> <td>   -0.296</td> <td> 0.767</td> <td>   -0.526</td> <td>    0.388</td>\n",
              "</tr>\n",
              "<tr>\n",
              "  <th>Ethnicity</th>    <td>    0.0096</td> <td>    0.197</td> <td>    0.048</td> <td> 0.961</td> <td>   -0.377</td> <td>    0.396</td>\n",
              "</tr>\n",
              "<tr>\n",
              "  <th>Marital</th>      <td>    0.0004</td> <td>    0.191</td> <td>    0.002</td> <td> 0.998</td> <td>   -0.373</td> <td>    0.374</td>\n",
              "</tr>\n",
              "<tr>\n",
              "  <th>Livewith</th>     <td>    0.0647</td> <td>    0.285</td> <td>    0.227</td> <td> 0.820</td> <td>   -0.494</td> <td>    0.623</td>\n",
              "</tr>\n",
              "<tr>\n",
              "  <th>Education</th>    <td>    0.0023</td> <td>    0.083</td> <td>    0.027</td> <td> 0.978</td> <td>   -0.161</td> <td>    0.166</td>\n",
              "</tr>\n",
              "<tr>\n",
              "  <th>palpitations</th> <td>   -0.0467</td> <td>    0.136</td> <td>   -0.344</td> <td> 0.731</td> <td>   -0.312</td> <td>    0.219</td>\n",
              "</tr>\n",
              "<tr>\n",
              "  <th>orthopnea</th>    <td>    0.0203</td> <td>    0.126</td> <td>    0.161</td> <td> 0.872</td> <td>   -0.227</td> <td>    0.268</td>\n",
              "</tr>\n",
              "<tr>\n",
              "  <th>chestpain</th>    <td>    0.0874</td> <td>    0.135</td> <td>    0.647</td> <td> 0.517</td> <td>   -0.177</td> <td>    0.352</td>\n",
              "</tr>\n",
              "<tr>\n",
              "  <th>nausea</th>       <td>   -0.3109</td> <td>    0.139</td> <td>   -2.242</td> <td> 0.025</td> <td>   -0.583</td> <td>   -0.039</td>\n",
              "</tr>\n",
              "<tr>\n",
              "  <th>cough</th>        <td>   -0.0687</td> <td>    0.121</td> <td>   -0.567</td> <td> 0.571</td> <td>   -0.306</td> <td>    0.169</td>\n",
              "</tr>\n",
              "<tr>\n",
              "  <th>fatigue</th>      <td>    0.1391</td> <td>    0.148</td> <td>    0.941</td> <td> 0.347</td> <td>   -0.151</td> <td>    0.429</td>\n",
              "</tr>\n",
              "<tr>\n",
              "  <th>dyspnea</th>      <td>    0.0499</td> <td>    0.147</td> <td>    0.340</td> <td> 0.734</td> <td>   -0.238</td> <td>    0.338</td>\n",
              "</tr>\n",
              "<tr>\n",
              "  <th>edema</th>        <td>   -0.3102</td> <td>    0.129</td> <td>   -2.399</td> <td> 0.016</td> <td>   -0.564</td> <td>   -0.057</td>\n",
              "</tr>\n",
              "<tr>\n",
              "  <th>PND</th>          <td>   -0.1798</td> <td>    0.119</td> <td>   -1.505</td> <td> 0.132</td> <td>   -0.414</td> <td>    0.054</td>\n",
              "</tr>\n",
              "<tr>\n",
              "  <th>tightshoes</th>   <td>    0.0806</td> <td>    0.137</td> <td>    0.588</td> <td> 0.557</td> <td>   -0.188</td> <td>    0.349</td>\n",
              "</tr>\n",
              "<tr>\n",
              "  <th>weightgain</th>   <td>    0.1456</td> <td>    0.121</td> <td>    1.206</td> <td> 0.228</td> <td>   -0.091</td> <td>    0.382</td>\n",
              "</tr>\n",
              "<tr>\n",
              "  <th>DOE</th>          <td>   -0.2216</td> <td>    0.135</td> <td>   -1.637</td> <td> 0.102</td> <td>   -0.487</td> <td>    0.044</td>\n",
              "</tr>\n",
              "</table>"
            ]
          },
          "metadata": {},
          "execution_count": 51
        }
      ]
    },
    {
      "cell_type": "markdown",
      "source": [
        "To build a logistic regression model to predict whether a person seeks medical treatment on or less than 1 day (“1”) or takes longer than 1 day to seek medical treatment (“0”):"
      ],
      "metadata": {
        "id": "COqhJULH_IoT"
      }
    },
    {
      "cell_type": "code",
      "source": [
        "data_dummy['early_treatment'] = (data_dummy['delaydays'] <= 1).astype(int)"
      ],
      "metadata": {
        "id": "syeiPKFx_FkP"
      },
      "execution_count": 52,
      "outputs": []
    },
    {
      "cell_type": "markdown",
      "source": [
        "Create a list of predictor variables"
      ],
      "metadata": {
        "id": "GteY9jEi_MyL"
      }
    },
    {
      "cell_type": "code",
      "source": [
        "predictors = ['Age', 'Gender', 'Ethnicity', 'Marital', 'Livewith', 'Education', \n",
        "              'palpitations', 'orthopnea', 'chestpain', 'nausea', 'cough', 'fatigue', \n",
        "              'dyspnea', 'edema', 'PND', 'tightshoes', 'weightgain', 'DOE']"
      ],
      "metadata": {
        "id": "ldG0AvGx_LSL"
      },
      "execution_count": 53,
      "outputs": []
    },
    {
      "cell_type": "code",
      "source": [
        "subset_data = data_dummy[predictors]"
      ],
      "metadata": {
        "id": "oyKWY62G_P2S"
      },
      "execution_count": 54,
      "outputs": []
    },
    {
      "cell_type": "markdown",
      "source": [
        "Fit the logistic regression model"
      ],
      "metadata": {
        "id": "0G8wVlZI_Tgf"
      }
    },
    {
      "cell_type": "code",
      "source": [
        "logit_model = sm.Logit(data_dummy['early_treatment'], data_dummy[predictors]).fit()"
      ],
      "metadata": {
        "colab": {
          "base_uri": "https://localhost:8080/"
        },
        "id": "mMfxqzkI_Rtn",
        "outputId": "ce329845-e8a6-4b09-e02a-01383ac228c7"
      },
      "execution_count": 55,
      "outputs": [
        {
          "output_type": "stream",
          "name": "stdout",
          "text": [
            "Optimization terminated successfully.\n",
            "         Current function value: 0.591681\n",
            "         Iterations 5\n"
          ]
        }
      ]
    },
    {
      "cell_type": "markdown",
      "source": [
        "Print the summary table of the model"
      ],
      "metadata": {
        "id": "DK3ULc6w_cj_"
      }
    },
    {
      "cell_type": "code",
      "source": [
        "print(logit_model.summary())"
      ],
      "metadata": {
        "colab": {
          "base_uri": "https://localhost:8080/"
        },
        "id": "f92wc6ub_WaV",
        "outputId": "a4fc9494-5ba7-4ae1-f34a-08b91c8781d8"
      },
      "execution_count": 56,
      "outputs": [
        {
          "output_type": "stream",
          "name": "stdout",
          "text": [
            "                           Logit Regression Results                           \n",
            "==============================================================================\n",
            "Dep. Variable:        early_treatment   No. Observations:                  401\n",
            "Model:                          Logit   Df Residuals:                      383\n",
            "Method:                           MLE   Df Model:                           17\n",
            "Date:                Mon, 20 Mar 2023   Pseudo R-squ.:                 0.07855\n",
            "Time:                        03:12:01   Log-Likelihood:                -237.26\n",
            "converged:                       True   LL-Null:                       -257.49\n",
            "Covariance Type:            nonrobust   LLR p-value:                  0.001117\n",
            "================================================================================\n",
            "                   coef    std err          z      P>|z|      [0.025      0.975]\n",
            "--------------------------------------------------------------------------------\n",
            "Age              0.0108      0.007      1.554      0.120      -0.003       0.024\n",
            "Gender           0.0166      0.227      0.073      0.942      -0.429       0.462\n",
            "Ethnicity       -0.1258      0.209     -0.601      0.548      -0.536       0.284\n",
            "Marital          0.0714      0.166      0.431      0.667      -0.253       0.396\n",
            "Livewith        -0.3925      0.218     -1.800      0.072      -0.820       0.035\n",
            "Education        0.0440      0.080      0.552      0.581      -0.112       0.200\n",
            "palpitations     0.1046      0.132      0.792      0.429      -0.154       0.363\n",
            "orthopnea       -0.3425      0.125     -2.741      0.006      -0.587      -0.098\n",
            "chestpain       -0.1260      0.138     -0.911      0.362      -0.397       0.145\n",
            "nausea           0.0193      0.147      0.131      0.896      -0.269       0.308\n",
            "cough           -0.3301      0.122     -2.714      0.007      -0.568      -0.092\n",
            "fatigue          0.1096      0.149      0.736      0.461      -0.182       0.401\n",
            "dyspnea          0.1533      0.141      1.088      0.277      -0.123       0.429\n",
            "edema           -0.3600      0.136     -2.638      0.008      -0.628      -0.093\n",
            "PND              0.1095      0.120      0.914      0.361      -0.125       0.344\n",
            "tightshoes       0.1247      0.144      0.866      0.386      -0.157       0.407\n",
            "weightgain       0.1277      0.121      1.059      0.289      -0.109       0.364\n",
            "DOE             -0.2746      0.130     -2.107      0.035      -0.530      -0.019\n",
            "================================================================================\n"
          ]
        }
      ]
    },
    {
      "cell_type": "markdown",
      "source": [
        "Split the data into training and testing sets"
      ],
      "metadata": {
        "id": "_LQAvt4F_g44"
      }
    },
    {
      "cell_type": "code",
      "source": [
        "X_train, X_test, y_train, y_test = train_test_split(X, y, test_size=0.3, random_state=42)"
      ],
      "metadata": {
        "id": "MTzF6ZO1_e6Z"
      },
      "execution_count": 57,
      "outputs": []
    },
    {
      "cell_type": "markdown",
      "source": [
        "Train the logistic model on the training set"
      ],
      "metadata": {
        "id": "RKjj2L9r_lFO"
      }
    },
    {
      "cell_type": "code",
      "source": [
        "logreg = LogisticRegression()\n",
        "logreg.fit(X_train, y_train)"
      ],
      "metadata": {
        "colab": {
          "base_uri": "https://localhost:8080/",
          "height": 213
        },
        "id": "ZM-SB2e1_jeo",
        "outputId": "74761a42-0b91-4006-874e-c5f06380c55a"
      },
      "execution_count": 58,
      "outputs": [
        {
          "output_type": "stream",
          "name": "stderr",
          "text": [
            "/usr/local/lib/python3.9/dist-packages/sklearn/linear_model/_logistic.py:458: ConvergenceWarning: lbfgs failed to converge (status=1):\n",
            "STOP: TOTAL NO. of ITERATIONS REACHED LIMIT.\n",
            "\n",
            "Increase the number of iterations (max_iter) or scale the data as shown in:\n",
            "    https://scikit-learn.org/stable/modules/preprocessing.html\n",
            "Please also refer to the documentation for alternative solver options:\n",
            "    https://scikit-learn.org/stable/modules/linear_model.html#logistic-regression\n",
            "  n_iter_i = _check_optimize_result(\n"
          ]
        },
        {
          "output_type": "execute_result",
          "data": {
            "text/plain": [
              "LogisticRegression()"
            ],
            "text/html": [
              "<style>#sk-container-id-4 {color: black;background-color: white;}#sk-container-id-4 pre{padding: 0;}#sk-container-id-4 div.sk-toggleable {background-color: white;}#sk-container-id-4 label.sk-toggleable__label {cursor: pointer;display: block;width: 100%;margin-bottom: 0;padding: 0.3em;box-sizing: border-box;text-align: center;}#sk-container-id-4 label.sk-toggleable__label-arrow:before {content: \"▸\";float: left;margin-right: 0.25em;color: #696969;}#sk-container-id-4 label.sk-toggleable__label-arrow:hover:before {color: black;}#sk-container-id-4 div.sk-estimator:hover label.sk-toggleable__label-arrow:before {color: black;}#sk-container-id-4 div.sk-toggleable__content {max-height: 0;max-width: 0;overflow: hidden;text-align: left;background-color: #f0f8ff;}#sk-container-id-4 div.sk-toggleable__content pre {margin: 0.2em;color: black;border-radius: 0.25em;background-color: #f0f8ff;}#sk-container-id-4 input.sk-toggleable__control:checked~div.sk-toggleable__content {max-height: 200px;max-width: 100%;overflow: auto;}#sk-container-id-4 input.sk-toggleable__control:checked~label.sk-toggleable__label-arrow:before {content: \"▾\";}#sk-container-id-4 div.sk-estimator input.sk-toggleable__control:checked~label.sk-toggleable__label {background-color: #d4ebff;}#sk-container-id-4 div.sk-label input.sk-toggleable__control:checked~label.sk-toggleable__label {background-color: #d4ebff;}#sk-container-id-4 input.sk-hidden--visually {border: 0;clip: rect(1px 1px 1px 1px);clip: rect(1px, 1px, 1px, 1px);height: 1px;margin: -1px;overflow: hidden;padding: 0;position: absolute;width: 1px;}#sk-container-id-4 div.sk-estimator {font-family: monospace;background-color: #f0f8ff;border: 1px dotted black;border-radius: 0.25em;box-sizing: border-box;margin-bottom: 0.5em;}#sk-container-id-4 div.sk-estimator:hover {background-color: #d4ebff;}#sk-container-id-4 div.sk-parallel-item::after {content: \"\";width: 100%;border-bottom: 1px solid gray;flex-grow: 1;}#sk-container-id-4 div.sk-label:hover label.sk-toggleable__label {background-color: #d4ebff;}#sk-container-id-4 div.sk-serial::before {content: \"\";position: absolute;border-left: 1px solid gray;box-sizing: border-box;top: 0;bottom: 0;left: 50%;z-index: 0;}#sk-container-id-4 div.sk-serial {display: flex;flex-direction: column;align-items: center;background-color: white;padding-right: 0.2em;padding-left: 0.2em;position: relative;}#sk-container-id-4 div.sk-item {position: relative;z-index: 1;}#sk-container-id-4 div.sk-parallel {display: flex;align-items: stretch;justify-content: center;background-color: white;position: relative;}#sk-container-id-4 div.sk-item::before, #sk-container-id-4 div.sk-parallel-item::before {content: \"\";position: absolute;border-left: 1px solid gray;box-sizing: border-box;top: 0;bottom: 0;left: 50%;z-index: -1;}#sk-container-id-4 div.sk-parallel-item {display: flex;flex-direction: column;z-index: 1;position: relative;background-color: white;}#sk-container-id-4 div.sk-parallel-item:first-child::after {align-self: flex-end;width: 50%;}#sk-container-id-4 div.sk-parallel-item:last-child::after {align-self: flex-start;width: 50%;}#sk-container-id-4 div.sk-parallel-item:only-child::after {width: 0;}#sk-container-id-4 div.sk-dashed-wrapped {border: 1px dashed gray;margin: 0 0.4em 0.5em 0.4em;box-sizing: border-box;padding-bottom: 0.4em;background-color: white;}#sk-container-id-4 div.sk-label label {font-family: monospace;font-weight: bold;display: inline-block;line-height: 1.2em;}#sk-container-id-4 div.sk-label-container {text-align: center;}#sk-container-id-4 div.sk-container {/* jupyter's `normalize.less` sets `[hidden] { display: none; }` but bootstrap.min.css set `[hidden] { display: none !important; }` so we also need the `!important` here to be able to override the default hidden behavior on the sphinx rendered scikit-learn.org. See: https://github.com/scikit-learn/scikit-learn/issues/21755 */display: inline-block !important;position: relative;}#sk-container-id-4 div.sk-text-repr-fallback {display: none;}</style><div id=\"sk-container-id-4\" class=\"sk-top-container\"><div class=\"sk-text-repr-fallback\"><pre>LogisticRegression()</pre><b>In a Jupyter environment, please rerun this cell to show the HTML representation or trust the notebook. <br />On GitHub, the HTML representation is unable to render, please try loading this page with nbviewer.org.</b></div><div class=\"sk-container\" hidden><div class=\"sk-item\"><div class=\"sk-estimator sk-toggleable\"><input class=\"sk-toggleable__control sk-hidden--visually\" id=\"sk-estimator-id-4\" type=\"checkbox\" checked><label for=\"sk-estimator-id-4\" class=\"sk-toggleable__label sk-toggleable__label-arrow\">LogisticRegression</label><div class=\"sk-toggleable__content\"><pre>LogisticRegression()</pre></div></div></div></div></div>"
            ]
          },
          "metadata": {},
          "execution_count": 58
        }
      ]
    },
    {
      "cell_type": "markdown",
      "source": [
        "Predict the outcome using the testing set\n",
        "\n"
      ],
      "metadata": {
        "id": "yKdRLYup_pJO"
      }
    },
    {
      "cell_type": "code",
      "source": [
        "y_pred = logreg.predict(X_test)"
      ],
      "metadata": {
        "id": "oTfuKhB3_mzy"
      },
      "execution_count": 59,
      "outputs": []
    },
    {
      "cell_type": "markdown",
      "source": [
        "Evaluate the performance of the model and priniting the confusion matrix"
      ],
      "metadata": {
        "id": "jPrOa_g3_uOq"
      }
    },
    {
      "cell_type": "code",
      "source": [
        "from sklearn.metrics import confusion_matrix, classification_report\n",
        "print(confusion_matrix(y_test, y_pred))"
      ],
      "metadata": {
        "colab": {
          "base_uri": "https://localhost:8080/"
        },
        "id": "6vZWkQKD_saK",
        "outputId": "0075c1bd-72b7-4666-968c-def67aa397eb"
      },
      "execution_count": 60,
      "outputs": [
        {
          "output_type": "stream",
          "name": "stdout",
          "text": [
            "[[ 3 31]\n",
            " [ 3 84]]\n"
          ]
        }
      ]
    },
    {
      "cell_type": "code",
      "source": [
        "print(classification_report(y_test, y_pred))"
      ],
      "metadata": {
        "colab": {
          "base_uri": "https://localhost:8080/"
        },
        "id": "N5AGsk93_wVv",
        "outputId": "40f0bae0-a7de-4053-a1ab-7be80649e302"
      },
      "execution_count": 61,
      "outputs": [
        {
          "output_type": "stream",
          "name": "stdout",
          "text": [
            "              precision    recall  f1-score   support\n",
            "\n",
            "           0       0.50      0.09      0.15        34\n",
            "           1       0.73      0.97      0.83        87\n",
            "\n",
            "    accuracy                           0.72       121\n",
            "   macro avg       0.62      0.53      0.49       121\n",
            "weighted avg       0.67      0.72      0.64       121\n",
            "\n"
          ]
        }
      ]
    },
    {
      "cell_type": "markdown",
      "source": [
        "Testing the error of the model"
      ],
      "metadata": {
        "id": "LQ8wq7C_AL0G"
      }
    },
    {
      "cell_type": "code",
      "source": [
        "testError = ( 3 + 31)/(3+31+3+84)\n",
        "print(\"The Test Error of the Model Obtained is : {:.2f} %\".format(testError * 100))"
      ],
      "metadata": {
        "colab": {
          "base_uri": "https://localhost:8080/"
        },
        "id": "PGKJ0D48_yeq",
        "outputId": "e6933642-1515-4e9f-d3c6-b445626c878b"
      },
      "execution_count": 62,
      "outputs": [
        {
          "output_type": "stream",
          "name": "stdout",
          "text": [
            "The Test Error of the Model Obtained is : 28.10 %\n"
          ]
        }
      ]
    }
  ]
}