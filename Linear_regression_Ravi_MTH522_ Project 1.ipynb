{
  "nbformat": 4,
  "nbformat_minor": 0,
  "metadata": {
    "colab": {
      "provenance": [],
      "authorship_tag": "ABX9TyOWnnlEiRSw+gXZJ1XjFFU9",
      "include_colab_link": true
    },
    "kernelspec": {
      "name": "python3",
      "display_name": "Python 3"
    },
    "language_info": {
      "name": "python"
    }
  },
  "cells": [
    {
      "cell_type": "markdown",
      "metadata": {
        "id": "view-in-github",
        "colab_type": "text"
      },
      "source": [
        "<a href=\"https://colab.research.google.com/github/Ravikiranparanji/Adv-math-statistics/blob/main/Linear_regression_Ravi_MTH522_%20Project%201.ipynb\" target=\"_parent\"><img src=\"https://colab.research.google.com/assets/colab-badge.svg\" alt=\"Open In Colab\"/></a>"
      ]
    },
    {
      "cell_type": "code",
      "execution_count": null,
      "metadata": {
        "id": "CYktcSn_h2MC",
        "colab": {
          "base_uri": "https://localhost:8080/"
        },
        "outputId": "e0db3b34-8064-492c-c0f4-109859a5064c"
      },
      "outputs": [
        {
          "output_type": "stream",
          "name": "stdout",
          "text": [
            "     Post-molt  Pre-molt\n",
            "0        148.1     135.8\n",
            "1        130.6     115.9\n",
            "2        140.5     128.8\n",
            "3        152.3     139.7\n",
            "4        148.0     135.6\n",
            "..         ...       ...\n",
            "489      152.6     138.2\n",
            "490      154.3     142.0\n",
            "491      143.8     128.2\n",
            "492      129.5     111.8\n",
            "493      153.6     139.0\n",
            "\n",
            "[494 rows x 2 columns]\n"
          ]
        }
      ],
      "source": [
        "import pandas as pd\n",
        "import numpy as np\n",
        "from scipy.stats import skew, kurtosis\n",
        "import matplotlib.pyplot as plt\n",
        "import statsmodels.api as sm\n",
        "import scipy.stats as stats\n",
        "import seaborn as sns\n",
        "\n",
        "data = pd.read_excel(\"crab_molt_data_sagi_gopala (1).xls\")\n",
        "print(data)\n"
      ]
    },
    {
      "cell_type": "code",
      "source": [
        "data.describe()\n"
      ],
      "metadata": {
        "colab": {
          "base_uri": "https://localhost:8080/",
          "height": 300
        },
        "id": "rLj9m8Jzm6LV",
        "outputId": "f0a687e8-4b2c-49d0-f3f5-83bc3732f253"
      },
      "execution_count": null,
      "outputs": [
        {
          "output_type": "execute_result",
          "data": {
            "text/plain": [
              "        Post-molt    Pre-molt\n",
              "count  494.000000  494.000000\n",
              "mean   143.644130  128.930162\n",
              "std     13.987742   15.413379\n",
              "min     38.800000   31.100000\n",
              "25%    137.900000  120.925000\n",
              "50%    147.500000  132.650000\n",
              "75%    152.900000  139.600000\n",
              "max    166.800000  154.500000"
            ],
            "text/html": [
              "\n",
              "  <div id=\"df-8e9529f7-0ddf-44a0-a221-d1ec9b911695\">\n",
              "    <div class=\"colab-df-container\">\n",
              "      <div>\n",
              "<style scoped>\n",
              "    .dataframe tbody tr th:only-of-type {\n",
              "        vertical-align: middle;\n",
              "    }\n",
              "\n",
              "    .dataframe tbody tr th {\n",
              "        vertical-align: top;\n",
              "    }\n",
              "\n",
              "    .dataframe thead th {\n",
              "        text-align: right;\n",
              "    }\n",
              "</style>\n",
              "<table border=\"1\" class=\"dataframe\">\n",
              "  <thead>\n",
              "    <tr style=\"text-align: right;\">\n",
              "      <th></th>\n",
              "      <th>Post-molt</th>\n",
              "      <th>Pre-molt</th>\n",
              "    </tr>\n",
              "  </thead>\n",
              "  <tbody>\n",
              "    <tr>\n",
              "      <th>count</th>\n",
              "      <td>494.000000</td>\n",
              "      <td>494.000000</td>\n",
              "    </tr>\n",
              "    <tr>\n",
              "      <th>mean</th>\n",
              "      <td>143.644130</td>\n",
              "      <td>128.930162</td>\n",
              "    </tr>\n",
              "    <tr>\n",
              "      <th>std</th>\n",
              "      <td>13.987742</td>\n",
              "      <td>15.413379</td>\n",
              "    </tr>\n",
              "    <tr>\n",
              "      <th>min</th>\n",
              "      <td>38.800000</td>\n",
              "      <td>31.100000</td>\n",
              "    </tr>\n",
              "    <tr>\n",
              "      <th>25%</th>\n",
              "      <td>137.900000</td>\n",
              "      <td>120.925000</td>\n",
              "    </tr>\n",
              "    <tr>\n",
              "      <th>50%</th>\n",
              "      <td>147.500000</td>\n",
              "      <td>132.650000</td>\n",
              "    </tr>\n",
              "    <tr>\n",
              "      <th>75%</th>\n",
              "      <td>152.900000</td>\n",
              "      <td>139.600000</td>\n",
              "    </tr>\n",
              "    <tr>\n",
              "      <th>max</th>\n",
              "      <td>166.800000</td>\n",
              "      <td>154.500000</td>\n",
              "    </tr>\n",
              "  </tbody>\n",
              "</table>\n",
              "</div>\n",
              "      <button class=\"colab-df-convert\" onclick=\"convertToInteractive('df-8e9529f7-0ddf-44a0-a221-d1ec9b911695')\"\n",
              "              title=\"Convert this dataframe to an interactive table.\"\n",
              "              style=\"display:none;\">\n",
              "        \n",
              "  <svg xmlns=\"http://www.w3.org/2000/svg\" height=\"24px\"viewBox=\"0 0 24 24\"\n",
              "       width=\"24px\">\n",
              "    <path d=\"M0 0h24v24H0V0z\" fill=\"none\"/>\n",
              "    <path d=\"M18.56 5.44l.94 2.06.94-2.06 2.06-.94-2.06-.94-.94-2.06-.94 2.06-2.06.94zm-11 1L8.5 8.5l.94-2.06 2.06-.94-2.06-.94L8.5 2.5l-.94 2.06-2.06.94zm10 10l.94 2.06.94-2.06 2.06-.94-2.06-.94-.94-2.06-.94 2.06-2.06.94z\"/><path d=\"M17.41 7.96l-1.37-1.37c-.4-.4-.92-.59-1.43-.59-.52 0-1.04.2-1.43.59L10.3 9.45l-7.72 7.72c-.78.78-.78 2.05 0 2.83L4 21.41c.39.39.9.59 1.41.59.51 0 1.02-.2 1.41-.59l7.78-7.78 2.81-2.81c.8-.78.8-2.07 0-2.86zM5.41 20L4 18.59l7.72-7.72 1.47 1.35L5.41 20z\"/>\n",
              "  </svg>\n",
              "      </button>\n",
              "      \n",
              "  <style>\n",
              "    .colab-df-container {\n",
              "      display:flex;\n",
              "      flex-wrap:wrap;\n",
              "      gap: 12px;\n",
              "    }\n",
              "\n",
              "    .colab-df-convert {\n",
              "      background-color: #E8F0FE;\n",
              "      border: none;\n",
              "      border-radius: 50%;\n",
              "      cursor: pointer;\n",
              "      display: none;\n",
              "      fill: #1967D2;\n",
              "      height: 32px;\n",
              "      padding: 0 0 0 0;\n",
              "      width: 32px;\n",
              "    }\n",
              "\n",
              "    .colab-df-convert:hover {\n",
              "      background-color: #E2EBFA;\n",
              "      box-shadow: 0px 1px 2px rgba(60, 64, 67, 0.3), 0px 1px 3px 1px rgba(60, 64, 67, 0.15);\n",
              "      fill: #174EA6;\n",
              "    }\n",
              "\n",
              "    [theme=dark] .colab-df-convert {\n",
              "      background-color: #3B4455;\n",
              "      fill: #D2E3FC;\n",
              "    }\n",
              "\n",
              "    [theme=dark] .colab-df-convert:hover {\n",
              "      background-color: #434B5C;\n",
              "      box-shadow: 0px 1px 3px 1px rgba(0, 0, 0, 0.15);\n",
              "      filter: drop-shadow(0px 1px 2px rgba(0, 0, 0, 0.3));\n",
              "      fill: #FFFFFF;\n",
              "    }\n",
              "  </style>\n",
              "\n",
              "      <script>\n",
              "        const buttonEl =\n",
              "          document.querySelector('#df-8e9529f7-0ddf-44a0-a221-d1ec9b911695 button.colab-df-convert');\n",
              "        buttonEl.style.display =\n",
              "          google.colab.kernel.accessAllowed ? 'block' : 'none';\n",
              "\n",
              "        async function convertToInteractive(key) {\n",
              "          const element = document.querySelector('#df-8e9529f7-0ddf-44a0-a221-d1ec9b911695');\n",
              "          const dataTable =\n",
              "            await google.colab.kernel.invokeFunction('convertToInteractive',\n",
              "                                                     [key], {});\n",
              "          if (!dataTable) return;\n",
              "\n",
              "          const docLinkHtml = 'Like what you see? Visit the ' +\n",
              "            '<a target=\"_blank\" href=https://colab.research.google.com/notebooks/data_table.ipynb>data table notebook</a>'\n",
              "            + ' to learn more about interactive tables.';\n",
              "          element.innerHTML = '';\n",
              "          dataTable['output_type'] = 'display_data';\n",
              "          await google.colab.output.renderOutput(dataTable, element);\n",
              "          const docLink = document.createElement('div');\n",
              "          docLink.innerHTML = docLinkHtml;\n",
              "          element.appendChild(docLink);\n",
              "        }\n",
              "      </script>\n",
              "    </div>\n",
              "  </div>\n",
              "  "
            ]
          },
          "metadata": {},
          "execution_count": 4
        }
      ]
    },
    {
      "cell_type": "markdown",
      "source": [
        "Splitting the given dataset into two seperate independent variables"
      ],
      "metadata": {
        "id": "gdHg3wArolPl"
      }
    },
    {
      "cell_type": "code",
      "source": [
        "half_point = data.shape[1] // 2\n",
        "data1 = data.iloc[:, :half_point]\n",
        "data2 = data.iloc[:, half_point:]\n",
        "print(data1, data2)\n"
      ],
      "metadata": {
        "colab": {
          "base_uri": "https://localhost:8080/"
        },
        "id": "0kK4UwcGny5g",
        "outputId": "bf792bb3-dd4c-4953-9b1e-90e588960a2e"
      },
      "execution_count": null,
      "outputs": [
        {
          "output_type": "stream",
          "name": "stdout",
          "text": [
            "     Post-molt\n",
            "0        148.1\n",
            "1        130.6\n",
            "2        140.5\n",
            "3        152.3\n",
            "4        148.0\n",
            "..         ...\n",
            "489      152.6\n",
            "490      154.3\n",
            "491      143.8\n",
            "492      129.5\n",
            "493      153.6\n",
            "\n",
            "[494 rows x 1 columns]      Pre-molt\n",
            "0       135.8\n",
            "1       115.9\n",
            "2       128.8\n",
            "3       139.7\n",
            "4       135.6\n",
            "..        ...\n",
            "489     138.2\n",
            "490     142.0\n",
            "491     128.2\n",
            "492     111.8\n",
            "493     139.0\n",
            "\n",
            "[494 rows x 1 columns]\n"
          ]
        }
      ]
    },
    {
      "cell_type": "markdown",
      "source": [
        "Finding the skewness"
      ],
      "metadata": {
        "id": "eIeNIOt0ox3Q"
      }
    },
    {
      "cell_type": "code",
      "source": [
        "data_skewness = data\n",
        "skewness = skew(data_skewness)\n",
        "print(\"skewness:\", skewness)"
      ],
      "metadata": {
        "colab": {
          "base_uri": "https://localhost:8080/"
        },
        "id": "7wFFU4OWoZpi",
        "outputId": "c2d62b49-fa2e-40d3-b762-b07b28f2bbba"
      },
      "execution_count": null,
      "outputs": [
        {
          "output_type": "stream",
          "name": "stdout",
          "text": [
            "skewness: [-2.19041457 -1.9151258 ]\n"
          ]
        }
      ]
    },
    {
      "cell_type": "markdown",
      "source": [
        "Finding the kurtosis"
      ],
      "metadata": {
        "id": "TntqQHlOpLiZ"
      }
    },
    {
      "cell_type": "code",
      "source": [
        "data_kurt = kurtosis(data)\n",
        "print(\"kurtosis: \", data_kurt)"
      ],
      "metadata": {
        "colab": {
          "base_uri": "https://localhost:8080/"
        },
        "id": "L6mAuDHxpQEJ",
        "outputId": "1b24e17c-0b43-45e6-a2a9-aed120acf3d8"
      },
      "execution_count": null,
      "outputs": [
        {
          "output_type": "stream",
          "name": "stdout",
          "text": [
            "kurtosis:  [8.97782044 6.09408505]\n"
          ]
        }
      ]
    },
    {
      "cell_type": "markdown",
      "source": [
        "Probability density function histogram for post_molt_data"
      ],
      "metadata": {
        "id": "R1Ug7eblraBW"
      }
    },
    {
      "cell_type": "code",
      "source": [
        "sns.histplot(data1, label='Post Molt data', alpha=1)\n",
        "plt.title('Probability Density Function for post molt data')\n",
        "plt.xlabel('Data Values')\n",
        "plt.ylabel('Probability Density')\n",
        "\n",
        "plt.plot()"
      ],
      "metadata": {
        "colab": {
          "base_uri": "https://localhost:8080/",
          "height": 312
        },
        "id": "QCYV-HYFrZUJ",
        "outputId": "8d9af5bc-c031-4602-d1f3-e263a35e814b"
      },
      "execution_count": null,
      "outputs": [
        {
          "output_type": "execute_result",
          "data": {
            "text/plain": [
              "[]"
            ]
          },
          "metadata": {},
          "execution_count": 9
        },
        {
          "output_type": "display_data",
          "data": {
            "text/plain": [
              "<Figure size 432x288 with 1 Axes>"
            ],
            "image/png": "[encoded data removed]"
          },
          "metadata": {
            "needs_background": "light"
          }
        }
      ]
    },
    {
      "cell_type": "markdown",
      "source": [
        "probability density function histogram for pre_molt_data"
      ],
      "metadata": {
        "id": "2JCsNth5pxPQ"
      }
    },
    {
      "cell_type": "code",
      "source": [
        "sns.histplot(data2, label=\"Pre Molt data\", alpha =1)\n",
        "plt.title(\"Probability Density Function for pre molt data\")\n",
        "plt.xlabel(\"Data Values\")\n",
        "plt.ylabel(\"Probability Density\")\n",
        "plt.plot()"
      ],
      "metadata": {
        "colab": {
          "base_uri": "https://localhost:8080/",
          "height": 312
        },
        "id": "LCnTXW4Ppg-4",
        "outputId": "ac19610f-97d3-4b52-aa04-cc82c20463da"
      },
      "execution_count": null,
      "outputs": [
        {
          "output_type": "execute_result",
          "data": {
            "text/plain": [
              "[]"
            ]
          },
          "metadata": {},
          "execution_count": 8
        },
        {
          "output_type": "display_data",
          "data": {
            "text/plain": [
              "<Figure size 432x288 with 1 Axes>"
            ],
            "image/png": "[encoded data removed]"
          },
          "metadata": {
            "needs_background": "light"
          }
        }
      ]
    },
    {
      "cell_type": "markdown",
      "source": [
        "Smooth histograms for each variable"
      ],
      "metadata": {
        "id": "FFLRDce_r2Uw"
      }
    },
    {
      "cell_type": "code",
      "source": [
        "fig, ax = plt.subplots(figsize=(10,8))\n",
        "\n",
        "sns.distplot(data1, hist=True, kde=False, kde_kws={'linewidth': 2}, label='Post_molt data', color='blue', ax=ax)\n",
        "sns.distplot(data2, hist=True, kde=False, kde_kws={'linewidth': 2}, label='Pre_molt data', color='green', ax=ax)\n",
        "\n",
        "plt.xlabel('Data Values')\n",
        "plt.ylabel('Probability Density')\n",
        "plt.title('Smooth Histogram of Data')\n",
        "\n",
        "ax.legend()\n",
        "\n",
        "plt.show()\n"
      ],
      "metadata": {
        "colab": {
          "base_uri": "https://localhost:8080/",
          "height": 513
        },
        "id": "5eeE5ljsqtt9",
        "outputId": "84553f5b-e36f-4cee-c854-bdcbb3c2e0d2"
      },
      "execution_count": null,
      "outputs": [
        {
          "output_type": "display_data",
          "data": {
            "text/plain": [
              "<Figure size 720x576 with 1 Axes>"
            ],
            "image/png": "[encoded data removed]"
          },
          "metadata": {
            "needs_background": "light"
          }
        }
      ]
    },
    {
      "cell_type": "markdown",
      "source": [
        "Plotting the “Pre-molt” size (dependent variable) as a function of “Post-molt” size (independent variable)"
      ],
      "metadata": {
        "id": "fyT-PIsdtkZN"
      }
    },
    {
      "cell_type": "code",
      "source": [
        "post_molt_size = data1\n",
        "pre_molt_size = data2\n",
        "\n",
        "fig, ax = plt.subplots(figsize=(10, 8))\n",
        "\n",
        "ax.scatter(post_molt_size, pre_molt_size)\n",
        "\n",
        "ax.set_title('Pre molt Size as a Function of Post molt Size')\n",
        "ax.set_xlabel('Post molt Size')\n",
        "ax.set_ylabel('Pre molt Size')\n",
        "\n",
        "plt.show()"
      ],
      "metadata": {
        "colab": {
          "base_uri": "https://localhost:8080/",
          "height": 513
        },
        "id": "hjEmeJItsLGF",
        "outputId": "cc59e35a-e279-49f1-de87-7bd434663491"
      },
      "execution_count": null,
      "outputs": [
        {
          "output_type": "display_data",
          "data": {
            "text/plain": [
              "<Figure size 720x576 with 1 Axes>"
            ],
            "image/png": "[encoded data removed]"
          },
          "metadata": {
            "needs_background": "light"
          }
        }
      ]
    },
    {
      "cell_type": "markdown",
      "source": [
        "Carrying out a simple linear regression with “Post-molt” size as the predictor variable, and “Pre-molt” size as the predicted variable and Plotting the least squares linear regression line on the same plot as the data, and calculate Pearson’s r^2 for the regression."
      ],
      "metadata": {
        "id": "-IV64aiJtzvj"
      }
    },
    {
      "cell_type": "code",
      "source": [
        "post_molt_size = data1\n",
        "pre_molt_size = data2\n",
        "\n",
        "post_molt_size = np.array(post_molt_size)\n",
        "pre_molt_size = np.array(pre_molt_size)\n",
        "\n",
        "post_molt_size = sm.add_constant(post_molt_size)\n",
        "model = sm.OLS(pre_molt_size, post_molt_size).fit()\n",
        "\n",
        "prediction = model.predict(post_molt_size)\n",
        "\n",
        "fig, ax = plt.subplots(figsize=(10, 6))\n",
        "\n",
        "ax.scatter(post_molt_size[:,1], pre_molt_size, label='Data')\n",
        "ax.plot(post_molt_size[:,1], prediction, 'r', label='Regression Line')\n",
        "ax.set_title('Pre molt Size as a Function of Post-molt Size')\n",
        "ax.set_xlabel('Post molt Size')\n",
        "ax.set_ylabel('Pre molt Size')\n",
        "ax.legend(loc='best')\n",
        "\n",
        "plt.show()\n",
        "\n",
        "r_squared = model.rsquared\n",
        "print(\"Pearson's r^2 for the regression:\", r_squared)\n"
      ],
      "metadata": {
        "colab": {
          "base_uri": "https://localhost:8080/",
          "height": 421
        },
        "id": "tjf8MBIvtwOg",
        "outputId": "747954d6-dd31-4d4c-f029-ef1ba99cff4f"
      },
      "execution_count": null,
      "outputs": [
        {
          "output_type": "display_data",
          "data": {
            "text/plain": [
              "<Figure size 720x432 with 1 Axes>"
            ],
            "image/png": "[encoded data removed]"
          },
          "metadata": {
            "needs_background": "light"
          }
        },
        {
          "output_type": "stream",
          "name": "stdout",
          "text": [
            "Pearson's r^2 for the regression: 0.9803334287618846\n"
          ]
        }
      ]
    },
    {
      "cell_type": "code",
      "source": [
        "model.summary()"
      ],
      "metadata": {
        "colab": {
          "base_uri": "https://localhost:8080/",
          "height": 478
        },
        "id": "LHF6irUR0cTB",
        "outputId": "c1e0f9b5-1f67-43d3-cb57-b841bc90413c"
      },
      "execution_count": null,
      "outputs": [
        {
          "output_type": "execute_result",
          "data": {
            "text/plain": [
              "<class 'statsmodels.iolib.summary.Summary'>\n",
              "\"\"\"\n",
              "                            OLS Regression Results                            \n",
              "==============================================================================\n",
              "Dep. Variable:                      y   R-squared:                       0.980\n",
              "Model:                            OLS   Adj. R-squared:                  0.980\n",
              "Method:                 Least Squares   F-statistic:                 2.453e+04\n",
              "Date:                Fri, 17 Feb 2023   Prob (F-statistic):               0.00\n",
              "Time:                        00:41:46   Log-Likelihood:                -1081.2\n",
              "No. Observations:                 494   AIC:                             2166.\n",
              "Df Residuals:                     492   BIC:                             2175.\n",
              "Df Model:                           1                                         \n",
              "Covariance Type:            nonrobust                                         \n",
              "==============================================================================\n",
              "                 coef    std err          t      P>|t|      [0.025      0.975]\n",
              "------------------------------------------------------------------------------\n",
              "const        -27.7901      1.005    -27.639      0.000     -29.766     -25.815\n",
              "x1             1.0910      0.007    156.605      0.000       1.077       1.105\n",
              "==============================================================================\n",
              "Omnibus:                      133.585   Durbin-Watson:                   1.983\n",
              "Prob(Omnibus):                  0.000   Jarque-Bera (JB):             1182.279\n",
              "Skew:                           0.902   Prob(JB):                    1.87e-257\n",
              "Kurtosis:                      10.361   Cond. No.                     1.49e+03\n",
              "==============================================================================\n",
              "\n",
              "Notes:\n",
              "[1] Standard Errors assume that the covariance matrix of the errors is correctly specified.\n",
              "[2] The condition number is large, 1.49e+03. This might indicate that there are\n",
              "strong multicollinearity or other numerical problems.\n",
              "\"\"\""
            ],
            "text/html": [
              "<table class=\"simpletable\">\n",
              "<caption>OLS Regression Results</caption>\n",
              "<tr>\n",
              "  <th>Dep. Variable:</th>            <td>y</td>        <th>  R-squared:         </th> <td>   0.980</td> \n",
              "</tr>\n",
              "<tr>\n",
              "  <th>Model:</th>                   <td>OLS</td>       <th>  Adj. R-squared:    </th> <td>   0.980</td> \n",
              "</tr>\n",
              "<tr>\n",
              "  <th>Method:</th>             <td>Least Squares</td>  <th>  F-statistic:       </th> <td>2.453e+04</td>\n",
              "</tr>\n",
              "<tr>\n",
              "  <th>Date:</th>             <td>Fri, 17 Feb 2023</td> <th>  Prob (F-statistic):</th>  <td>  0.00</td>  \n",
              "</tr>\n",
              "<tr>\n",
              "  <th>Time:</th>                 <td>00:41:46</td>     <th>  Log-Likelihood:    </th> <td> -1081.2</td> \n",
              "</tr>\n",
              "<tr>\n",
              "  <th>No. Observations:</th>      <td>   494</td>      <th>  AIC:               </th> <td>   2166.</td> \n",
              "</tr>\n",
              "<tr>\n",
              "  <th>Df Residuals:</th>          <td>   492</td>      <th>  BIC:               </th> <td>   2175.</td> \n",
              "</tr>\n",
              "<tr>\n",
              "  <th>Df Model:</th>              <td>     1</td>      <th>                     </th>     <td> </td>    \n",
              "</tr>\n",
              "<tr>\n",
              "  <th>Covariance Type:</th>      <td>nonrobust</td>    <th>                     </th>     <td> </td>    \n",
              "</tr>\n",
              "</table>\n",
              "<table class=\"simpletable\">\n",
              "<tr>\n",
              "    <td></td>       <th>coef</th>     <th>std err</th>      <th>t</th>      <th>P>|t|</th>  <th>[0.025</th>    <th>0.975]</th>  \n",
              "</tr>\n",
              "<tr>\n",
              "  <th>const</th> <td>  -27.7901</td> <td>    1.005</td> <td>  -27.639</td> <td> 0.000</td> <td>  -29.766</td> <td>  -25.815</td>\n",
              "</tr>\n",
              "<tr>\n",
              "  <th>x1</th>    <td>    1.0910</td> <td>    0.007</td> <td>  156.605</td> <td> 0.000</td> <td>    1.077</td> <td>    1.105</td>\n",
              "</tr>\n",
              "</table>\n",
              "<table class=\"simpletable\">\n",
              "<tr>\n",
              "  <th>Omnibus:</th>       <td>133.585</td> <th>  Durbin-Watson:     </th> <td>   1.983</td> \n",
              "</tr>\n",
              "<tr>\n",
              "  <th>Prob(Omnibus):</th> <td> 0.000</td>  <th>  Jarque-Bera (JB):  </th> <td>1182.279</td> \n",
              "</tr>\n",
              "<tr>\n",
              "  <th>Skew:</th>          <td> 0.902</td>  <th>  Prob(JB):          </th> <td>1.87e-257</td>\n",
              "</tr>\n",
              "<tr>\n",
              "  <th>Kurtosis:</th>      <td>10.361</td>  <th>  Cond. No.          </th> <td>1.49e+03</td> \n",
              "</tr>\n",
              "</table><br/><br/>Notes:<br/>[1] Standard Errors assume that the covariance matrix of the errors is correctly specified.<br/>[2] The condition number is large, 1.49e+03. This might indicate that there are<br/>strong multicollinearity or other numerical problems."
            ]
          },
          "metadata": {},
          "execution_count": 30
        }
      ]
    },
    {
      "cell_type": "markdown",
      "source": [
        "Descriptive statistics of the residuals and quantile plot to test the normality"
      ],
      "metadata": {
        "id": "OzC11fhKuZJl"
      }
    },
    {
      "cell_type": "code",
      "source": [
        "post_molt_size = data1\n",
        "pre_molt_size = data2\n",
        "\n",
        "post_molt_size = np.array(post_molt_size)\n",
        "pre_molt_size = np.array(pre_molt_size)\n",
        "\n",
        "post_molt_size = sm.add_constant(post_molt_size)\n",
        "model = sm.OLS(pre_molt_size, post_molt_size).fit()\n",
        "\n",
        "residuals = model.resid\n",
        "\n",
        "print(\"Descriptive statistics of the residuals:\")\n",
        "print(\"\\n\")\n",
        "print(\"Mean:\", np.mean(residuals))\n",
        "print(\"Standard deviation:\", np.std(residuals))\n",
        "print(\"Minimum value:\", np.min(residuals))\n",
        "print(\"Maximum value:\", np.max(residuals))\n",
        "print(\"25th percentile:\", np.percentile(residuals, 25))\n",
        "print(\"50th percentile (median):\", np.percentile(residuals, 50))\n",
        "print(\"75th percentile:\", np.percentile(residuals, 75))\n",
        "\n",
        "fig, ax = plt.subplots(figsize=(10, 5))\n",
        "\n",
        "stats.probplot(residuals, plot=ax, fit=True)\n",
        "ax.set_title(\"QUANTILE PLOT OF THE RESIDUALS\")\n",
        "ax.set_xlabel(\"Quantities of standard normal\")\n",
        "ax.set_ylabel(\"Residuals\")\n",
        "\n",
        "plt.show()"
      ],
      "metadata": {
        "colab": {
          "base_uri": "https://localhost:8080/",
          "height": 524
        },
        "id": "6qUy2E_kuIBm",
        "outputId": "39071ceb-923e-4a89-e994-9cd70a6fcb87"
      },
      "execution_count": null,
      "outputs": [
        {
          "output_type": "stream",
          "name": "stdout",
          "text": [
            "Descriptive statistics of the residuals:\n",
            "\n",
            "\n",
            "Mean: -1.2120219358061708e-13\n",
            "Standard deviation: 2.159345658617834\n",
            "Minimum value: -6.42941112182146\n",
            "Maximum value: 16.558053343950203\n",
            "25th percentile: -1.3307990081910255\n",
            "50th percentile (median): 0.15392717642920672\n",
            "75th percentile: 1.3987040796186605\n"
          ]
        },
        {
          "output_type": "display_data",
          "data": {
            "text/plain": [
              "<Figure size 720x360 with 1 Axes>"
            ],
            "image/png": "[encoded data removed]"
          },
          "metadata": {
            "needs_background": "light"
          }
        }
      ]
    },
    {
      "cell_type": "markdown",
      "source": [
        "Testing the distribution of residuals for normality by using a quantile plot and shapiro wilks test"
      ],
      "metadata": {
        "id": "MR6rn9ocvOE0"
      }
    },
    {
      "cell_type": "code",
      "source": [
        "post_molt_size = data1\n",
        "pre_molt_size = data2\n",
        "\n",
        "post_molt_size = np.array(post_molt_size)\n",
        "pre_molt_size = np.array(pre_molt_size)\n",
        "\n",
        "post_molt_size = sm.add_constant(post_molt_size)\n",
        "model = sm.OLS(pre_molt_size, post_molt_size).fit()\n",
        "\n",
        "residuals = model.resid\n",
        "\n",
        "fig, ax = plt.subplots(figsize=(10, 8))\n",
        "\n",
        "stats.probplot(residuals, plot=ax, fit=True)\n",
        "ax.set_title(\"Quantile Plot of Residuals\")\n",
        "ax.set_xlabel(\"Quantities of standard normal\")\n",
        "ax.set_ylabel(\"Residuals\")\n",
        "\n",
        "plt.show()\n",
        "\n",
        "_, p_value = stats.shapiro(residuals)\n",
        "\n",
        "if p_value < 0.05:\n",
        "    print(\"The residuals are not normally distributed, p-value =\", p_value)\n",
        "else:\n",
        "    print(\"The residuals are normally distributed, p-value =\", p_value)"
      ],
      "metadata": {
        "colab": {
          "base_uri": "https://localhost:8080/",
          "height": 530
        },
        "id": "nPSVTxbhvHyG",
        "outputId": "b63e160d-4a37-4b77-a6ef-ad794c8aac40"
      },
      "execution_count": null,
      "outputs": [
        {
          "output_type": "display_data",
          "data": {
            "text/plain": [
              "<Figure size 720x576 with 1 Axes>"
            ],
            "image/png": "[encoded data removed]"
          },
          "metadata": {
            "needs_background": "light"
          }
        },
        {
          "output_type": "stream",
          "name": "stdout",
          "text": [
            "The residuals are not normally distributed, p-value = 2.6231412333065085e-13\n"
          ]
        }
      ]
    },
    {
      "cell_type": "markdown",
      "source": [
        "Plotting the residuals against the dependent variable to check for heteroscedasticity."
      ],
      "metadata": {
        "id": "z8LW2PAsv5C-"
      }
    },
    {
      "cell_type": "code",
      "source": [
        "pre_molt_size = data1\n",
        "\n",
        "residuals = model.resid\n",
        "\n",
        "plt.scatter(pre_molt_size, residuals)\n",
        "\n",
        "plt.xlabel('Pre Molt Size')\n",
        "plt.ylabel('Residuals')\n",
        "plt.title('Residuals vs Pre-Molt Size')\n",
        "\n",
        "plt.show()"
      ],
      "metadata": {
        "colab": {
          "base_uri": "https://localhost:8080/",
          "height": 295
        },
        "id": "VW7b-AgWvjqP",
        "outputId": "9f57fec7-8a24-4b88-bf30-3a8173f4022d"
      },
      "execution_count": null,
      "outputs": [
        {
          "output_type": "display_data",
          "data": {
            "text/plain": [
              "<Figure size 432x288 with 1 Axes>"
            ],
            "image/png": "[encoded data removed]"
          },
          "metadata": {
            "needs_background": "light"
          }
        }
      ]
    },
    {
      "cell_type": "markdown",
      "source": [
        "It looks that there might not be any heteroscedasticity in the residuals based on the scatter plot of the residuals versus the pre-molt size variable that we have plotted. This demonstrates a crucial assumption of linear regression—that the variance of the residuals is essentially constant over the pre-molt size variable's range.\n",
        "\n",
        "Also, if the residuals are all gathered in one area, there could not be much variety in the residuals' distribution, making it impossible to visually verify for heteroscedasticity in the first place."
      ],
      "metadata": {
        "id": "r71iZtgTwkgI"
      }
    }
  ]
}